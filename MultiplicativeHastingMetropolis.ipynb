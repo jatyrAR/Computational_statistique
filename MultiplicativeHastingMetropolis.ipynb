{
  "nbformat": 4,
  "nbformat_minor": 0,
  "metadata": {
    "colab": {
      "name": "MultiplicativeHastingMetropolis.ipynb",
      "provenance": [],
      "collapsed_sections": [],
      "include_colab_link": true
    },
    "kernelspec": {
      "name": "python3",
      "display_name": "Python 3"
    }
  },
  "cells": [
    {
      "cell_type": "markdown",
      "metadata": {
        "id": "view-in-github",
        "colab_type": "text"
      },
      "source": [
        "<a href=\"https://colab.research.google.com/github/jatyrAR/Computational_statistique/blob/master/MultiplicativeHastingMetropolis.ipynb\" target=\"_parent\"><img src=\"https://colab.research.google.com/assets/colab-badge.svg\" alt=\"Open In Colab\"/></a>"
      ]
    },
    {
      "cell_type": "markdown",
      "metadata": {
        "id": "gV9Y0Ur1hVOr",
        "colab_type": "text"
      },
      "source": [
        "<center> <h1>Multiplicative Hasting Metropolis"
      ]
    },
    {
      "cell_type": "code",
      "metadata": {
        "id": "Sl2iKKM1hSeM",
        "colab_type": "code",
        "colab": {}
      },
      "source": [
        "import numpy as np\n",
        "import matplotlib.pyplot as plt"
      ],
      "execution_count": 0,
      "outputs": []
    },
    {
      "cell_type": "code",
      "metadata": {
        "id": "suAzru_HiPNP",
        "colab_type": "code",
        "colab": {}
      },
      "source": [
        "class HastingMetropolis():\n",
        "\n",
        "  def __init__(self,pi,sample_from_f):\n",
        "    '''\n",
        "    pi : the target distribution (unknown to a constant)\n",
        "    sample_from_f : sample from f a known density in [-1,1]\n",
        "    '''\n",
        "    self.pi=pi\n",
        "    self.sample_from_f=sample_from_f\n",
        "\n",
        "  def next_state(self,x):\n",
        "    '''\n",
        "    return the next state y of the markov chain in the state x\n",
        "    '''\n",
        "    eps=self.sample_from_f(size=(1))\n",
        "    u = np.random.uniform(0,1)\n",
        "    if(u<1/2) : y=eps*x \n",
        "    else : y=x/eps\n",
        "    alpha = self.alpha(x,y)\n",
        "    if (u<alpha): return y\n",
        "    else : return x\n",
        "\n",
        "  def alpha(self,x,y):\n",
        "    return np.min([1,self.pi(y)*np.abs(y)/(np.abs(x)*self.pi(x))])\n",
        "\n",
        "  def __call__(self,T,x0):\n",
        "    '''\n",
        "    run T itteration of the Multiplicative Hasting Metropolis Algorithm,\n",
        "    output : array of lenght T of all the states \n",
        "    '''\n",
        "    states = np.zeros(T)\n",
        "    states[0]=x0\n",
        "    for t in range(1,T):\n",
        "      states[t]=self.next_state(states[t-1])\n",
        "    return states\n"
      ],
      "execution_count": 0,
      "outputs": []
    },
    {
      "cell_type": "code",
      "metadata": {
        "id": "vwVmt-XmwPfI",
        "colab_type": "code",
        "colab": {}
      },
      "source": [
        "def sample_from_uniform(size):\n",
        "  '''\n",
        "  On a pris f(x)= uniforme sur [-1,1] \n",
        "  '''\n",
        "  return np.random.uniform(-1,1,size=size)\n"
      ],
      "execution_count": 0,
      "outputs": []
    },
    {
      "cell_type": "code",
      "metadata": {
        "id": "bMB4wPVvy_pT",
        "colab_type": "code",
        "colab": {}
      },
      "source": [
        "def sample_from_f(size):\n",
        "  '''\n",
        "  On a pris f(x)=(x+1)/2 sur [-1,1] et 0 ailleurs\n",
        "  On simule suivant f avec l'inverce de la cdf\n",
        "  '''\n",
        "  u = np.random.uniform(0,1,size=size)\n",
        "  return 2*np.sqrt(u)-1"
      ],
      "execution_count": 0,
      "outputs": []
    },
    {
      "cell_type": "code",
      "metadata": {
        "id": "z9BxdJfaV6s4",
        "colab_type": "code",
        "colab": {}
      },
      "source": [
        "def objective_gaussian(x,mu=0,sigma=1):\n",
        "  return np.exp(-1/(2*sigma**2)*(x-mu)**2)*1/np.sqrt(2*np.pi*sigma**2)\n",
        "\n",
        "def objective_laplace(x,mu=0,b=2):\n",
        "  return 1/b*np.exp(-np.abs(x-mu)/b)\n",
        "\n",
        "def objective_gaussian2(x,mu=10,sigma=1):\n",
        "  return np.exp(-1/(2*sigma**2)*(x-mu)**2)*1/np.sqrt(2*np.pi*sigma**2)\n",
        "\n",
        "def objective_exp(x,l=1):\n",
        "  if(type(x)==np.ndarray):\n",
        "    z=np.exp(-l*x)/l\n",
        "    z[z>1/l]=0\n",
        "    return z\n",
        "  else:\n",
        "    if(x<0) : return 0\n",
        "    else : return np.exp(-l*x)/l"
      ],
      "execution_count": 0,
      "outputs": []
    },
    {
      "cell_type": "code",
      "metadata": {
        "id": "1LaDnKxVUs9z",
        "colab_type": "code",
        "colab": {}
      },
      "source": [
        "HM1=HastingMetropolis(pi=objective_gaussian, sample_from_f=sample_from_f)"
      ],
      "execution_count": 0,
      "outputs": []
    },
    {
      "cell_type": "code",
      "metadata": {
        "id": "gcJyeja0U8vN",
        "colab_type": "code",
        "colab": {}
      },
      "source": [
        "result = HM1(10000,1)"
      ],
      "execution_count": 0,
      "outputs": []
    },
    {
      "cell_type": "code",
      "metadata": {
        "id": "nUxOmBBAVT5E",
        "colab_type": "code",
        "outputId": "33ec21b7-88b9-46a9-c18e-72796107dea8",
        "colab": {
          "base_uri": "https://localhost:8080/",
          "height": 283
        }
      },
      "source": [
        "plt.hist(result,bins=100,density=True)\n",
        "t=np.linspace(-5,5,1000)\n",
        "plt.plot(t,objective_gaussian(t),color='r')"
      ],
      "execution_count": 0,
      "outputs": [
        {
          "output_type": "execute_result",
          "data": {
            "text/plain": [
              "[<matplotlib.lines.Line2D at 0x7f0ab6065940>]"
            ]
          },
          "metadata": {
            "tags": []
          },
          "execution_count": 7
        },
        {
          "output_type": "display_data",
          "data": {
            "image/png": "[encoded data removed]",
            "text/plain": [
              "<Figure size 432x288 with 1 Axes>"
            ]
          },
          "metadata": {
            "tags": []
          }
        }
      ]
    },
    {
      "cell_type": "code",
      "metadata": {
        "id": "A9f9wqIpbpDX",
        "colab_type": "code",
        "colab": {}
      },
      "source": [
        "HM2=HastingMetropolis(pi=objective_laplace, sample_from_f=sample_from_f)"
      ],
      "execution_count": 0,
      "outputs": []
    },
    {
      "cell_type": "code",
      "metadata": {
        "id": "3I1o2rCyej2x",
        "colab_type": "code",
        "colab": {}
      },
      "source": [
        "result = HM2(10000,0.1)"
      ],
      "execution_count": 0,
      "outputs": []
    },
    {
      "cell_type": "code",
      "metadata": {
        "id": "l2uwbA9femwt",
        "colab_type": "code",
        "outputId": "336e4998-322f-4ec3-b96e-8a87ebe1c1d2",
        "colab": {
          "base_uri": "https://localhost:8080/",
          "height": 283
        }
      },
      "source": [
        "plt.hist(result,bins=100,density=True)\n",
        "t=np.linspace(-10,10,1000)\n",
        "plt.plot(t,objective_laplace(t),color='r')"
      ],
      "execution_count": 0,
      "outputs": [
        {
          "output_type": "execute_result",
          "data": {
            "text/plain": [
              "[<matplotlib.lines.Line2D at 0x7f0ab56d8128>]"
            ]
          },
          "metadata": {
            "tags": []
          },
          "execution_count": 10
        },
        {
          "output_type": "display_data",
          "data": {
            "image/png": "[encoded data removed]",
            "text/plain": [
              "<Figure size 432x288 with 1 Axes>"
            ]
          },
          "metadata": {
            "tags": []
          }
        }
      ]
    },
    {
      "cell_type": "markdown",
      "metadata": {
        "id": "ooV-ASrQorrs",
        "colab_type": "text"
      },
      "source": [
        "On surcharge trop le centre des distributions. En effet quand on regarde $\\alpha$ On a : $$\\alpha(x,y)=min(1,\\frac{\\pi(y)|x|}{\\pi(x)|y|})$$ \n",
        "Dans le cas gaussien on a : $$\\alpha(x,y)=min(1,\\frac{e^{-y^2/2}|x|}{e^{-x^2/2}|y|})$$ Donc quand $|x|$ tend vers 0 $\\alpha$ tend vers 0, on accepte pas y et donc on reste au centre de la distribution. "
      ]
    },
    {
      "cell_type": "code",
      "metadata": {
        "id": "EJyuHmPMJqoB",
        "colab_type": "code",
        "colab": {}
      },
      "source": [
        "HM3=HastingMetropolis(pi=objective_gaussian2, sample_from_f=sample_from_f)"
      ],
      "execution_count": 0,
      "outputs": []
    },
    {
      "cell_type": "code",
      "metadata": {
        "id": "kuwLuGE-KZHZ",
        "colab_type": "code",
        "colab": {}
      },
      "source": [
        "result = HM3(10000,15)"
      ],
      "execution_count": 0,
      "outputs": []
    },
    {
      "cell_type": "code",
      "metadata": {
        "id": "mRvIUbv0KczU",
        "colab_type": "code",
        "outputId": "c24353ed-7e68-4926-f4ee-d0cbe279693e",
        "colab": {
          "base_uri": "https://localhost:8080/",
          "height": 283
        }
      },
      "source": [
        "plt.hist(result,bins=100,density=True)\n",
        "t=np.linspace(5,15,1000)\n",
        "plt.plot(t,objective_gaussian2(t),color='r')"
      ],
      "execution_count": 0,
      "outputs": [
        {
          "output_type": "execute_result",
          "data": {
            "text/plain": [
              "[<matplotlib.lines.Line2D at 0x7f0ab50b3d68>]"
            ]
          },
          "metadata": {
            "tags": []
          },
          "execution_count": 13
        },
        {
          "output_type": "display_data",
          "data": {
            "image/png": "[encoded data removed]",
            "text/plain": [
              "<Figure size 432x288 with 1 Axes>"
            ]
          },
          "metadata": {
            "tags": []
          }
        }
      ]
    },
    {
      "cell_type": "markdown",
      "metadata": {
        "id": "xr5g0CdemfTZ",
        "colab_type": "text"
      },
      "source": [
        "On a bien un probléme, quand x se rapproche de 0 on a un taux d'acceptation trop bas. il me semble que c'est pour cela que la distribution est décalé vers la gauche"
      ]
    },
    {
      "cell_type": "code",
      "metadata": {
        "id": "QcQX0oOaKfYr",
        "colab_type": "code",
        "colab": {}
      },
      "source": [
        "HM4=HastingMetropolis(pi=objective_exp, sample_from_f=sample_from_f)"
      ],
      "execution_count": 0,
      "outputs": []
    },
    {
      "cell_type": "code",
      "metadata": {
        "id": "HjbZoggkopFf",
        "colab_type": "code",
        "outputId": "74e31cff-0d04-4b55-dca5-eee57fd0c023",
        "colab": {
          "base_uri": "https://localhost:8080/",
          "height": 53
        }
      },
      "source": [
        "result = HM4(10000,15)"
      ],
      "execution_count": 0,
      "outputs": [
        {
          "output_type": "stream",
          "text": [
            "/usr/local/lib/python3.6/dist-packages/ipykernel_launcher.py:12: RuntimeWarning: overflow encountered in exp\n",
            "  if sys.path[0] == '':\n"
          ],
          "name": "stderr"
        }
      ]
    },
    {
      "cell_type": "code",
      "metadata": {
        "id": "KmECdG9BorYu",
        "colab_type": "code",
        "outputId": "f20aea82-00a0-48d5-f94f-0406aaaedf4a",
        "colab": {
          "base_uri": "https://localhost:8080/",
          "height": 283
        }
      },
      "source": [
        "plt.hist(result,bins=100,density=True)\n",
        "t=np.linspace(-1,6,1000)\n",
        "plt.plot(t,objective_exp(t),color='r')"
      ],
      "execution_count": 0,
      "outputs": [
        {
          "output_type": "execute_result",
          "data": {
            "text/plain": [
              "[<matplotlib.lines.Line2D at 0x7f0ab50b3208>]"
            ]
          },
          "metadata": {
            "tags": []
          },
          "execution_count": 16
        },
        {
          "output_type": "display_data",
          "data": {
            "image/png": "[encoded data removed]",
            "text/plain": [
              "<Figure size 432x288 with 1 Axes>"
            ]
          },
          "metadata": {
            "tags": []
          }
        }
      ]
    },
    {
      "cell_type": "code",
      "metadata": {
        "id": "2Jsrppexq29b",
        "colab_type": "code",
        "colab": {}
      },
      "source": [
        ""
      ],
      "execution_count": 0,
      "outputs": []
    }
  ]
}