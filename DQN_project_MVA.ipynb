{
  "nbformat": 4,
  "nbformat_minor": 0,
  "metadata": {
    "kernelspec": {
      "display_name": "Python 3",
      "language": "python",
      "name": "python3"
    },
    "language_info": {
      "codemirror_mode": {
        "name": "ipython",
        "version": 3
      },
      "file_extension": ".py",
      "mimetype": "text/x-python",
      "name": "python",
      "nbconvert_exporter": "python",
      "pygments_lexer": "ipython3",
      "version": "3.7.3"
    },
    "toc": {
      "base_numbering": 1,
      "nav_menu": {},
      "number_sections": true,
      "sideBar": true,
      "skip_h1_title": false,
      "title_cell": "Table of Contents",
      "title_sidebar": "Contents",
      "toc_cell": false,
      "toc_position": {},
      "toc_section_display": true,
      "toc_window_display": false
    },
    "varInspector": {
      "cols": {
        "lenName": 16,
        "lenType": 16,
        "lenVar": 40
      },
      "kernels_config": {
        "python": {
          "delete_cmd_postfix": "",
          "delete_cmd_prefix": "del ",
          "library": "var_list.py",
          "varRefreshCmd": "print(var_dic_list())"
        },
        "r": {
          "delete_cmd_postfix": ") ",
          "delete_cmd_prefix": "rm(",
          "library": "var_list.r",
          "varRefreshCmd": "cat(var_dic_list()) "
        }
      },
      "position": {
        "height": "302.85px",
        "left": "986px",
        "right": "20px",
        "top": "120px",
        "width": "299px"
      },
      "types_to_exclude": [
        "module",
        "function",
        "builtin_function_or_method",
        "instance",
        "_Feature"
      ],
      "window_display": false
    },
    "colab": {
      "name": "DQN_project_MVA.ipynb",
      "provenance": [],
      "include_colab_link": true
    }
  },
  "cells": [
    {
      "cell_type": "markdown",
      "metadata": {
        "id": "view-in-github",
        "colab_type": "text"
      },
      "source": [
        "<a href=\"https://colab.research.google.com/github/jatyrAR/Computational_statistique/blob/master/DQN_project_MVA.ipynb\" target=\"_parent\"><img src=\"https://colab.research.google.com/assets/colab-badge.svg\" alt=\"Open In Colab\"/></a>"
      ]
    },
    {
      "cell_type": "markdown",
      "metadata": {
        "id": "b7EDpP6p5BfO",
        "colab_type": "text"
      },
      "source": [
        "**You may need to install [OpenCV](https://pypi.python.org/pypi/opencv-python) and [scikit-video](http://www.scikit-video.org/stable/).**"
      ]
    },
    {
      "cell_type": "code",
      "metadata": {
        "id": "knufJmGR5BfS",
        "colab_type": "code",
        "colab": {},
        "outputId": "29943299-8699-4681-8f3a-2dcf3a0159f2"
      },
      "source": [
        "import keras\n",
        "import numpy as np\n",
        "import io\n",
        "import base64\n",
        "from IPython.display import HTML\n",
        "import skvideo.io\n",
        "import cv2\n",
        "import json\n",
        "\n",
        "from keras.models import Sequential,model_from_json\n",
        "from keras.layers.core import Dense\n",
        "from keras.optimizers import sgd\n",
        "from keras.layers import Conv2D, MaxPooling2D, Activation, AveragePooling2D,Reshape,BatchNormalization"
      ],
      "execution_count": 0,
      "outputs": [
        {
          "output_type": "stream",
          "text": [
            "Using TensorFlow backend.\n"
          ],
          "name": "stderr"
        }
      ]
    },
    {
      "cell_type": "markdown",
      "metadata": {
        "id": "6pAfIC0J5BfY",
        "colab_type": "text"
      },
      "source": [
        "# MiniProject on Deep Reinforcement Learning"
      ]
    },
    {
      "cell_type": "markdown",
      "metadata": {
        "id": "2DCVICMv5BfZ",
        "colab_type": "text"
      },
      "source": [
        "__Notations__: $E_p$ is the expectation under probability $p$. Please justify each of your answer and widely comment your code."
      ]
    },
    {
      "cell_type": "markdown",
      "metadata": {
        "id": "OF3oDsR85Bfb",
        "colab_type": "text"
      },
      "source": [
        "# Context"
      ]
    },
    {
      "cell_type": "markdown",
      "metadata": {
        "id": "sZKqXcT15Bfc",
        "colab_type": "text"
      },
      "source": [
        "In a reinforcement learning algorithm, we modelize each step $t$ as an action $a_t$ obtained from a state $s_t$, i.e. $\\{(a_{t},s_{t})_{t\\leq T}\\}$ having the Markov property. We consider a discount factor $\\gamma \\in [0,1]$ that ensures convergence. The goal is to find among all the policies $\\pi$, one that maximizes the expected reward:\n",
        "\n",
        "\\begin{equation*}\n",
        "R(\\pi)=\\sum_{t\\leq T}E_{p^{\\pi}}[\\gamma^t r(s_{t},a_{t})] \\> ,\n",
        "\\end{equation*}\n",
        "\n",
        "where: \n",
        "\\begin{equation*}p^{\\pi}(a_{0},a_{1},s_{1},...,a_{T},s_{T})=p(a_{0})\\prod_{t=1}^{T}\\pi(a_{t}|s_{t})p(s_{t+1}|s_{t},a_{t}) \\> .\n",
        "\\end{equation*}\n",
        "\n",
        "We note the $Q$-function:\n",
        "\n",
        "\\begin{equation*}Q^\\pi(s,a)=E_{p^{\\pi}}[\\sum_{t\\leq T}\\gamma^{t}r(s_{t},a_{t})|s_{0}=s,a_{0}=a] \\> .\n",
        "\\end{equation*}\n",
        "\n",
        "Thus, the optimal Q function is:\n",
        "\\begin{equation*}\n",
        "Q^*(s,a)=\\max_{\\pi}Q^\\pi(s,a) \\> .\n",
        "\\end{equation*}\n",
        "\n",
        "In this project, we will apply the deep reinforcement learning techniques to a simple game: an agent will have to learn from scratch a policy that will permit it maximizing a reward."
      ]
    },
    {
      "cell_type": "markdown",
      "metadata": {
        "id": "-SEYi_Gs5Bfe",
        "colab_type": "text"
      },
      "source": [
        "## The environment, the agent and the game"
      ]
    },
    {
      "cell_type": "markdown",
      "metadata": {
        "id": "Zu3tah8J5Bfj",
        "colab_type": "text"
      },
      "source": [
        "### The environment"
      ]
    },
    {
      "cell_type": "markdown",
      "metadata": {
        "id": "eHFXzGST5Bfk",
        "colab_type": "text"
      },
      "source": [
        "```Environment``` is an abstract class that represents the states, rewards, and actions to obtain the new state."
      ]
    },
    {
      "cell_type": "code",
      "metadata": {
        "id": "syen6Oaj5Bfl",
        "colab_type": "code",
        "colab": {}
      },
      "source": [
        "class Environment(object):\n",
        "    def __init__(self):\n",
        "        pass\n",
        "\n",
        "    def act(self, act):\n",
        "        \"\"\"\n",
        "        One can act on the environment and obtain its reaction:\n",
        "        - the new state\n",
        "        - the reward of the new state\n",
        "        - should we continue the game?\n",
        "\n",
        "        :return: state, reward, game_over\n",
        "        \"\"\"\n",
        "        pass\n",
        "\n",
        "\n",
        "    def reset(self):\n",
        "        \"\"\"\n",
        "        Reinitialize the environment to a random state and returns\n",
        "        the original state\n",
        "\n",
        "        :return: state\n",
        "        \"\"\"\n",
        "        pass\n",
        "    \n",
        "    def draw(self):\n",
        "        \"\"\"\n",
        "        Visualize in the console or graphically the current state\n",
        "        \"\"\"\n",
        "        pass"
      ],
      "execution_count": 0,
      "outputs": []
    },
    {
      "cell_type": "markdown",
      "metadata": {
        "id": "mPw2VWDw5Bfr",
        "colab_type": "text"
      },
      "source": [
        "The method ```act``` allows to act on the environment at a given state $s_t$ (stored internally), via action $a_t$. The method will return the new state $s_{t+1}$, the reward $r(s_{t},a_{t})$ and determines if $t\\leq T$ (*game_over*).\n",
        "\n",
        "The method ```reset``` simply reinitializes the environment to a random state $s_0$.\n",
        "\n",
        "The method ```draw``` displays the current state $s_t$ (this is useful to check the behavior of the Agent).\n",
        "\n",
        "We modelize $s_t$ as a tensor, while $a_t$ is an integer."
      ]
    },
    {
      "cell_type": "markdown",
      "metadata": {
        "id": "3bet-D6a5Bfs",
        "colab_type": "text"
      },
      "source": [
        "### The Agent"
      ]
    },
    {
      "cell_type": "markdown",
      "metadata": {
        "id": "zy8fXX695Bfu",
        "colab_type": "text"
      },
      "source": [
        "The goal of the ```Agent``` is to interact with the ```Environment``` by proposing actions $a_t$ obtained from a given state $s_t$ to attempt to maximize its __reward__ $r(s_t,a_t)$. We propose the following abstract class:"
      ]
    },
    {
      "cell_type": "code",
      "metadata": {
        "id": "uDKEY8T15Bfv",
        "colab_type": "code",
        "colab": {}
      },
      "source": [
        "class Agent(object):\n",
        "    def __init__(self, epsilon=0.1, n_action=4):\n",
        "        self.epsilon = epsilon\n",
        "        self.n_action = n_action\n",
        "    \n",
        "    def set_epsilon(self,e):\n",
        "        self.epsilon = e\n",
        "\n",
        "    def act(self,s,train=True):\n",
        "        \"\"\" This function should return the next action to do:\n",
        "        an integer between 0 and 4 (not included) with a random exploration of epsilon\"\"\"\n",
        "        if train:\n",
        "            if np.random.rand() <= self.epsilon:\n",
        "                a = np.random.randint(0, self.n_action, size=1)[0]\n",
        "            else:\n",
        "                a = self.learned_act(s)\n",
        "        else: # in some cases, this can improve the performance.. remove it if poor performances\n",
        "            a = self.learned_act(s)\n",
        "\n",
        "        return a\n",
        "\n",
        "    def learned_act(self,s):\n",
        "        \"\"\" Act via the policy of the agent, from a given state s\n",
        "        it proposes an action a\"\"\"\n",
        "        pass\n",
        "\n",
        "    def reinforce(self, s, n_s, a, r, game_over_):\n",
        "        \"\"\" This function is the core of the learning algorithm. \n",
        "        It takes as an input the current state s_, the next state n_s_\n",
        "        the action a_ used to move from s_ to n_s_ and the reward r_.\n",
        "        \n",
        "        Its goal is to learn a policy.\n",
        "        \"\"\"\n",
        "        pass\n",
        "\n",
        "    def save(self):\n",
        "        \"\"\" This function returns basic stats if applicable: the\n",
        "        loss and/or the model\"\"\"\n",
        "        pass\n",
        "\n",
        "    def load(self):\n",
        "        \"\"\" This function allows to restore a model\"\"\"\n",
        "        pass"
      ],
      "execution_count": 0,
      "outputs": []
    },
    {
      "cell_type": "markdown",
      "metadata": {
        "id": "fYJYnjAN5Bfz",
        "colab_type": "text"
      },
      "source": [
        "***\n",
        "__Question 1__:\n",
        "Explain the function act. Why is ```epsilon``` essential?"
      ]
    },
    {
      "cell_type": "markdown",
      "metadata": {
        "id": "Bq5KbIxA5Bf0",
        "colab_type": "text"
      },
      "source": [
        "__Answer 1__: \n",
        "The goal is to act accordingly to the best policy known by the agent. The problem is that, if the agent only act greedely with a few known policy, it will not explore the set of actions and therefore the actions took might be far from optimal. Here the idea is that with probability epsilon, we take a random action, otherwise we take the best known policy. This is a way to solve the exploration/exploitation dilema associated with those problems."
      ]
    },
    {
      "cell_type": "markdown",
      "metadata": {
        "id": "KZgOxoUP5Bf1",
        "colab_type": "text"
      },
      "source": [
        "***\n",
        "### The Game"
      ]
    },
    {
      "cell_type": "markdown",
      "metadata": {
        "id": "dCEotgxH5Bf2",
        "colab_type": "text"
      },
      "source": [
        "The ```Agent``` and the ```Environment``` work in an interlaced way as in the following (take some time to understand this code as it is the core of the project)\n",
        "\n",
        "```python\n",
        "\n",
        "epoch = 300\n",
        "env = Environment()\n",
        "agent = Agent()\n",
        "\n",
        "\n",
        "# Number of won games\n",
        "score = 0\n",
        "loss = 0\n",
        "\n",
        "\n",
        "for e in range(epoch):\n",
        "    # At each epoch, we restart to a fresh game and get the initial state\n",
        "    state = env.reset()\n",
        "    # This assumes that the games will end\n",
        "    game_over = False\n",
        "\n",
        "    win = 0\n",
        "    lose = 0\n",
        "    \n",
        "    while not game_over:\n",
        "        # The agent performs an action\n",
        "        action = agent.act(state)\n",
        "\n",
        "        # Apply an action to the environment, get the next state, the reward\n",
        "        # and if the games end\n",
        "        prev_state = state\n",
        "        state, reward, game_over = env.act(action)\n",
        "\n",
        "        # Update the counters\n",
        "        if reward > 0:\n",
        "            win = win + reward\n",
        "        if reward < 0:\n",
        "            lose = lose -reward\n",
        "\n",
        "        # Apply the reinforcement strategy\n",
        "        loss = agent.reinforce(prev_state, state,  action, reward, game_over)\n",
        "\n",
        "    # Save as a mp4\n",
        "    if e % 10 == 0:\n",
        "        env.draw(e)\n",
        "\n",
        "    # Update stats\n",
        "    score += win-lose\n",
        "\n",
        "    print(\"Epoch {:03d}/{:03d} | Loss {:.4f} | Win/lose count {}/{} ({})\"\n",
        "          .format(e, epoch, loss, win, lose, win-lose))\n",
        "    agent.save()\n",
        "```"
      ]
    },
    {
      "cell_type": "markdown",
      "metadata": {
        "id": "W9nAiB7s5Bf3",
        "colab_type": "text"
      },
      "source": [
        "# The game, *eat cheese*"
      ]
    },
    {
      "cell_type": "markdown",
      "metadata": {
        "id": "umOA3XWi5Bf4",
        "colab_type": "text"
      },
      "source": [
        "A rat runs on an island and tries to eat as much as possible. The island is subdivided into $N\\times N$ cells, in which there are cheese (+0.5) and poisonous cells (-1). The rat has a visibility of 2 cells (thus it can see $5^2$ cells). The rat is given a time $T$ to accumulate as much food as possible. It can perform 4 actions: going up, down, left, right. \n",
        "\n",
        "The goal is to code an agent to solve this task that will learn by trial and error. We propose the following environment:"
      ]
    },
    {
      "cell_type": "code",
      "metadata": {
        "id": "b0QpivCh5Bf5",
        "colab_type": "code",
        "colab": {}
      },
      "source": [
        "class Environment(object):\n",
        "    def __init__(self, grid_size=10, max_time=500, temperature=0.1):\n",
        "        grid_size = grid_size+4\n",
        "        self.grid_size = grid_size\n",
        "        self.max_time = max_time\n",
        "        self.temperature = temperature\n",
        "\n",
        "        #board on which one plays\n",
        "        self.board = np.zeros((grid_size,grid_size))\n",
        "        self.position = np.zeros((grid_size,grid_size))\n",
        "\n",
        "        # coordinate of the cat\n",
        "        self.x = 0\n",
        "        self.y = 1\n",
        "\n",
        "        # self time\n",
        "        self.t = 0\n",
        "\n",
        "        self.scale=16\n",
        "\n",
        "        self.to_draw = np.zeros((max_time+2, grid_size*self.scale, grid_size*self.scale, 3))\n",
        "\n",
        "\n",
        "    def draw(self,e):\n",
        "        skvideo.io.vwrite(str(e) + '.mp4', self.to_draw)\n",
        "\n",
        "    def get_frame(self,t):\n",
        "        b = np.zeros((self.grid_size,self.grid_size,3))+128\n",
        "        b[self.board>0,0] = 256\n",
        "        b[self.board < 0, 2] = 256\n",
        "        b[self.x,self.y,:]=256\n",
        "        b[-2:,:,:]=0\n",
        "        b[:,-2:,:]=0\n",
        "        b[:2,:,:]=0\n",
        "        b[:,:2,:]=0\n",
        "        \n",
        "        b =  cv2.resize(b, None, fx=self.scale, fy=self.scale, interpolation=cv2.INTER_NEAREST)\n",
        "\n",
        "        self.to_draw[t,:,:,:]=b\n",
        "\n",
        "\n",
        "    def act(self, action):\n",
        "        \"\"\"This function returns the new state, reward and decides if the\n",
        "        game ends.\"\"\"\n",
        "\n",
        "        self.get_frame(int(self.t))\n",
        "\n",
        "        self.position = np.zeros((self.grid_size, self.grid_size))\n",
        "\n",
        "        self.position[0:2,:]= -1\n",
        "        self.position[:,0:2] = -1\n",
        "        self.position[-2:, :] = -1\n",
        "        self.position[-2:, :] = -1\n",
        "\n",
        "        self.position[self.x, self.y] = 1\n",
        "        if action == 0:\n",
        "            if self.x == self.grid_size-3:\n",
        "                self.x = self.x-1\n",
        "            else:\n",
        "                self.x = self.x + 1\n",
        "        elif action == 1:\n",
        "            if self.x == 2:\n",
        "                self.x = self.x+1\n",
        "            else:\n",
        "                self.x = self.x-1\n",
        "        elif action == 2:\n",
        "            if self.y == self.grid_size - 3:\n",
        "                self.y = self.y - 1\n",
        "            else:\n",
        "                self.y = self.y + 1\n",
        "        elif action == 3:\n",
        "            if self.y == 2:\n",
        "                self.y = self.y + 1\n",
        "            else:\n",
        "                self.y = self.y - 1\n",
        "        else:\n",
        "            RuntimeError('Error: action not recognized')\n",
        "\n",
        "        self.t = self.t + 1\n",
        "        reward = self.board[self.x, self.y]\n",
        "        self.board[self.x, self.y] = 0\n",
        "        game_over = self.t > self.max_time\n",
        "        state = np.concatenate((self.board.reshape(self.grid_size, self.grid_size,1),\n",
        "                        self.position.reshape(self.grid_size, self.grid_size,1)),axis=2)\n",
        "        state = state[self.x-2:self.x+3,self.y-2:self.y+3,:]\n",
        "\n",
        "        return state, reward, game_over\n",
        "\n",
        "    def reset(self):\n",
        "        \"\"\"This function resets the game and returns the initial state\"\"\"\n",
        "\n",
        "        self.x = np.random.randint(3, self.grid_size-3, size=1)[0]\n",
        "        self.y = np.random.randint(3, self.grid_size-3, size=1)[0]\n",
        "\n",
        "\n",
        "        bonus = 0.5*np.random.binomial(1,self.temperature,size=self.grid_size**2)\n",
        "        bonus = bonus.reshape(self.grid_size,self.grid_size)\n",
        "\n",
        "        malus = -1.0*np.random.binomial(1,self.temperature,size=self.grid_size**2)\n",
        "        malus = malus.reshape(self.grid_size, self.grid_size)\n",
        "\n",
        "        self.to_draw = np.zeros((self.max_time+2, self.grid_size*self.scale, self.grid_size*self.scale, 3))\n",
        "\n",
        "\n",
        "        malus[bonus>0]=0\n",
        "\n",
        "        self.board = bonus + malus\n",
        "\n",
        "        self.position = np.zeros((self.grid_size, self.grid_size))\n",
        "        self.position[0:2,:]= -1\n",
        "        self.position[:,0:2] = -1\n",
        "        self.position[-2:, :] = -1\n",
        "        self.position[-2:, :] = -1\n",
        "        self.board[self.x,self.y] = 0\n",
        "        self.t = 0\n",
        "\n",
        "        state = np.concatenate((\n",
        "                               self.board.reshape(self.grid_size, self.grid_size,1),\n",
        "                        self.position.reshape(self.grid_size, self.grid_size,1)),axis=2)\n",
        "\n",
        "        state = state[self.x - 2:self.x + 3, self.y - 2:self.y + 3, :]\n",
        "        return state"
      ],
      "execution_count": 0,
      "outputs": []
    },
    {
      "cell_type": "markdown",
      "metadata": {
        "id": "Zrxqgl345Bf8",
        "colab_type": "text"
      },
      "source": [
        "The following elements are important because they correspond to the hyper parameters for this project:"
      ]
    },
    {
      "cell_type": "code",
      "metadata": {
        "id": "Vca2-Mp75Bf9",
        "colab_type": "code",
        "colab": {}
      },
      "source": [
        "# parameters\n",
        "size = 13\n",
        "T=200\n",
        "temperature = 0.3\n",
        "epochs_train= 200 # set small when debugging\n",
        "epochs_test= 20 # set small when debugging\n",
        "\n",
        "# display videos\n",
        "def display_videos(name):\n",
        "    video = io.open(name, 'r+b').read()\n",
        "    encoded = base64.b64encode(video)\n",
        "    return '''<video alt=\"test\" controls>\n",
        "                <source src=\"data:video/mp4;base64,{0}\" type=\"video/mp4\" />\n",
        "             </video>'''.format(encoded.decode('ascii'))"
      ],
      "execution_count": 0,
      "outputs": []
    },
    {
      "cell_type": "markdown",
      "metadata": {
        "id": "bLkSoloC5BgC",
        "colab_type": "text"
      },
      "source": [
        "__Question 2__ Explain the use of the arrays ```position``` and ```board```."
      ]
    },
    {
      "cell_type": "markdown",
      "metadata": {
        "id": "N_OeoVbb5BgD",
        "colab_type": "text"
      },
      "source": [
        "__Answer 2__ :\n",
        "\n",
        "Position enables one to store the previous positions of the agent and board is used to store what the agent have already seen, and eat in some cases. "
      ]
    },
    {
      "cell_type": "markdown",
      "metadata": {
        "id": "R8_Q_cQg5BgE",
        "colab_type": "text"
      },
      "source": [
        "## Random Agent"
      ]
    },
    {
      "cell_type": "markdown",
      "metadata": {
        "id": "HLETIvkG5BgH",
        "colab_type": "text"
      },
      "source": [
        "***\n",
        "__Question 3__ Implement a random Agent (only ```learned_act``` needs to be implemented):"
      ]
    },
    {
      "cell_type": "code",
      "metadata": {
        "id": "H32sOrsB5BgI",
        "colab_type": "code",
        "colab": {}
      },
      "source": [
        "class RandomAgent(Agent):\n",
        "    def __init__(self):\n",
        "        super(RandomAgent, self).__init__()\n",
        "        pass\n",
        "\n",
        "    def learned_act(self, s):\n",
        "        return  np.random.randint(0, self.n_action, size=1)[0]"
      ],
      "execution_count": 0,
      "outputs": []
    },
    {
      "cell_type": "markdown",
      "metadata": {
        "id": "kF7MKx5v5BgL",
        "colab_type": "text"
      },
      "source": [
        "***\n",
        "***\n",
        "__Question 4__ Visualize the game moves. You need to fill in the following function for the evaluation:"
      ]
    },
    {
      "cell_type": "code",
      "metadata": {
        "id": "Q0uqbDwb5BgM",
        "colab_type": "code",
        "colab": {}
      },
      "source": [
        "def test(agent,env,epochs,prefix=''):\n",
        "    # Number of won games\n",
        "    score = 0\n",
        "        \n",
        "    for e in range(epochs):\n",
        "        \n",
        "        state = env.reset()\n",
        "    \n",
        "        game_over = False\n",
        "\n",
        "        win = 0\n",
        "        lose = 0\n",
        "\n",
        "        while not game_over:\n",
        "            # The agent performs an action\n",
        "            action = agent.act(state, train=False)\n",
        "            prev_state = state\n",
        "            state, reward, game_over = env.act(action)\n",
        "\n",
        "            if reward > 0:\n",
        "                win = win + reward\n",
        "            if reward < 0:\n",
        "                lose = lose -reward\n",
        "        # Save as a mp4\n",
        "        env.draw(prefix+str(e))\n",
        "\n",
        "        # Update stats\n",
        "        score = score + win-lose\n",
        "\n",
        "        print(\"Win/lose count {}/{}. Average score ({})\"\n",
        "              .format(win, lose, score/(1+e)))\n",
        "    print('Final score: '+str(score/epochs))"
      ],
      "execution_count": 0,
      "outputs": []
    },
    {
      "cell_type": "code",
      "metadata": {
        "id": "Dh7li-UX5BgP",
        "colab_type": "code",
        "colab": {},
        "outputId": "2544561e-86ce-4afa-d59a-2575ea06c46a"
      },
      "source": [
        "# Initialize the game\n",
        "env = Environment(grid_size=size, max_time=T,temperature=temperature)\n",
        "\n",
        "# Initialize the agent!\n",
        "agent = RandomAgent()\n",
        "\n",
        "test(agent,env,epochs_test,prefix='random')\n",
        "HTML(display_videos('random0.mp4'))"
      ],
      "execution_count": 0,
      "outputs": [
        {
          "output_type": "stream",
          "text": [
            "Win/lose count 9.5/11.0. Average score (-1.5)\n",
            "Win/lose count 7.5/8.0. Average score (-1.0)\n",
            "Win/lose count 13.5/14.0. Average score (-0.8333333333333334)\n",
            "Win/lose count 9.5/14.0. Average score (-1.75)\n",
            "Win/lose count 2.5/8.0. Average score (-2.5)\n",
            "Win/lose count 7.5/13.0. Average score (-3.0)\n",
            "Win/lose count 8.0/11.0. Average score (-3.0)\n",
            "Win/lose count 8.0/12.0. Average score (-3.125)\n",
            "Win/lose count 8.0/10.0. Average score (-3.0)\n",
            "Win/lose count 5.0/9.0. Average score (-3.1)\n",
            "Win/lose count 11.5/11.0. Average score (-2.772727272727273)\n",
            "Win/lose count 14.5/16.0. Average score (-2.6666666666666665)\n",
            "Win/lose count 12.0/14.0. Average score (-2.6153846153846154)\n",
            "Win/lose count 7.5/12.0. Average score (-2.75)\n",
            "Win/lose count 10.0/13.0. Average score (-2.7666666666666666)\n",
            "Win/lose count 13.5/14.0. Average score (-2.625)\n",
            "Win/lose count 10.5/14.0. Average score (-2.676470588235294)\n",
            "Win/lose count 3.5/15.0. Average score (-3.1666666666666665)\n",
            "Win/lose count 10.0/12.0. Average score (-3.1052631578947367)\n",
            "Win/lose count 4.5/18.0. Average score (-3.625)\n",
            "Final score: -3.625\n"
          ],
          "name": "stdout"
        },
        {
          "output_type": "execute_result",
          "data": {
            "text/html": [
              "<video alt=\"test\" controls>\n",
              "                <source src=\"data:video/mp4;base64,AAAAIGZ0eXBpc29tAAACAGlzb21pc28yYXZjMW1wNDEAAAAIZnJlZQAAGFltZGF0AAACrQYF//+p3EXpvebZSLeWLNgg2SPu73gyNjQgLSBjb3JlIDE1MiByMjg1NCBlOWE1OTAzIC0gSC4yNjQvTVBFRy00IEFWQyBjb2RlYyAtIENvcHlsZWZ0IDIwMDMtMjAxNyAtIGh0dHA6Ly93d3cudmlkZW9sYW4ub3JnL3gyNjQuaHRtbCAtIG9wdGlvbnM6IGNhYmFjPTEgcmVmPTMgZGVibG9jaz0xOjA6MCBhbmFseXNlPTB4MToweDExMSBtZT1oZXggc3VibWU9NyBwc3k9MSBwc3lfcmQ9MS4wMDowLjAwIG1peGVkX3JlZj0xIG1lX3JhbmdlPTE2IGNocm9tYV9tZT0xIHRyZWxsaXM9MSA4eDhkY3Q9MCBjcW09MCBkZWFkem9uZT0yMSwxMSBmYXN0X3Bza2lwPTEgY2hyb21hX3FwX29mZnNldD00IHRocmVhZHM9NiBsb29rYWhlYWRfdGhyZWFkcz0xIHNsaWNlZF90aHJlYWRzPTAgbnI9MCBkZWNpbWF0ZT0xIGludGVybGFjZWQ9MCBibHVyYXlfY29tcGF0PTAgY29uc3RyYWluZWRfaW50cmE9MCBiZnJhbWVzPTMgYl9weXJhbWlkPTIgYl9hZGFwdD0xIGJfYmlhcz0wIGRpcmVjdD0xIHdlaWdodGI9MSBvcGVuX2dvcD0wIHdlaWdodHA9MiBrZXlpbnQ9MjUwIGtleWludF9taW49MjUgc2NlbmVjdXQ9NDAgaW50cmFfcmVmcmVzaD0wIHJjX2xvb2thaGVhZD00MCByYz1jcmYgbWJ0cmVlPTEgY3JmPTIzLjAgcWNvbXA9MC42MCBxcG1pbj0wIHFwbWF4PTY5IHFwc3RlcD00IGlwX3JhdGlvPTEuNDAgYXE9MToxLjAwAIAAAALUZYiEADP//vaG+BTYUyP+T7/8I/+5H7cfWfrixkIJvrVeQ9GAMl8a/5lGYaXpyc8t7R+vTNAEZz6HlLJIofgUkwDfMsjnE+J8s6FP3lFrFWUnapilQooJthtp0b20OLMk6NeDugflGeunrEN1VfBwtFFWx4JuvkTHkdaU8GympRb1JaTg6ZMfCXjNgH0FnZFLRAL93HKWX69251rpKsso39OHYJGp+aq/tPASKc1H9CkYMNxQosoZUgRKM1Cp822gAwpeCurS+eWtOCRupPMTWJPQH9g+yCN/vYUhRcbRz7B8IJ7M5NLvsgYduGgKoOBO55y1llO1yYGYGoNpWQjGqN76hCdKUjJVwto7klC8gmnJHa9HL3t+8NmfCWEIZukcjMcQK+/vtcIU2RittIIv3GmgA3+fUf9AQqN++aB2gRHPrizoc+M0lbYJykESFioe50NXXwXea/svpLk1f0921AGZCqoCIMXIaljEmlIOsZkiiTpvT+4m56S7mhtyqTCsV9TAV0aAOpRZmMk35Wd10odGCapPbciyvi+l3dSafssEMUJu/C12mjnTtEUgYeqQhRkwDP48NqNbOz7/lmh6wwSMnmwVChxmBl91Cjn5KV7313KRyz54fFHt0WC0vk/7AIJscKBHJfgheatA5zSWq2dn9JkT2h7CefnAmQjm5ZPDQZgSQRN9hoT5eTr4UaKkIkXA92rXc0SnjI/gKeI28/uDlbCmr5MiBUDoP1LgLGO/KBjKoALUGF8qm43cjVQlGXPExK1oaLNk/ZOFyyCJT0yUOeJ+4sNkEjJHFYihsGAO/vZOSPPQSJ0dnCtK+k4lbMXxyx/js/LxDCCAHlqcFHupbg6B4EmB9IXGppvaeWmKHanGiD1tfpPA6AA80oPOGbL+oayI7vlEhZQIkaKpl9waH0WW6dFbjxFr6HgjFAN6+L/CH2Fd1oAvSTHriwyXwACGgQAAABNBmiFsQz/+nhABnfX3esm7i3B4AAAAF0GaQjwhkymEM//+nhABk/X38iRH1hIfAAAAGEGaY0nhDyZTAhn//p4QAP76+7tObuLdZgAAABlBmoRJ4Q8mUwIb//6nhAA/vsH+E4LdCVlBAAAAGkGapUnhDyZTAhv//qeEACo+8MG5/CcFuhMPAAAAH0GayUnhDyZTAhn//p4QAGvkMc+kF/JBL5BxdWCoE/EAAAAWQZ7nRRE8L/8AEFnrVTo5XImSeRWUgQAAABABnwZ0Qr8AFrtHeVsoeqrAAAAAEAGfCGpCvwAOgC851TMb/sAAAAAbQZsKSahBaJlMCG///qeEABDvpdDE/hOC3QpRAAAAGEGbK0nhClJlMCG//qeEAAtWK0ghE/y30wAAABZBm09J4Q6JlMCG//6nhAALr7qftlOAAAAADkGfbUURPC//AAboRd/hAAAADwGfjHRCvwAJbuO6O2+GdwAAABABn45qQr8ADimoc/zLeFnBAAAAGkGbkEmoQWiZTAhv//6nhAALZ7qfqONCQ8nAAAAAH0Gbs0nhClJlMCG//qeEAAdz2D+bS7yA/XsG2+8QpIQAAAASQZ/RRTRMK/8ABiGbmuPuUvexAAAAEAGf8mpCvwAGSZua48VbfeAAAAAZQZv0SahBaJlMCG///qeEAAT/3U4/w+rcmwAAABlBmhdJ4QpSZTAhv/6nhAAE+BP+J/JpeAk7AAAAEUGeNUU0TCv/AAP4zFgkJXDLAAAADgGeVmpCvwAD+M1iuBatAAAAGUGaWEmoQWiZTAhv//6nhAAFGxWkEIn+XJMAAAAWQZp7SeEKUmUwIb/+p4QABRwSIcXJMAAAABJBnplFNEwr/wAEFlAEApgHhcEAAAAOAZ66akK/AAQYNKup1UkAAAAcQZq9SahBaJlMFPDv/qmWAAO6OoWQk3NPRj9O0wAAABABntxqQr8ABkgWNe80rSpBAAAAGUGawEnhClJlMCHf/qmWAAO/7S8LUE/sOaAAAAASQZ7+RTRMK/8ACW9Ou7v6ReGAAAAADgGfH2pCvwAJbK67jwcNAAAAHEGbBEmoQWiZTAh3//6plgAFk0s5QZoFPox+m/oAAAAQQZ8iRREsL/8ABplXjewZ+QAAAA8Bn0F0Qr8ABfklEKYJXYAAAAAQAZ9DakK/AAju0Qm4z69YaQAAABpBm0dJqEFsmUwId//+qZYACIIsN0YhHPsf4QAAABJBn2VFFSwr/wAN07cLsN9L1E0AAAAPAZ+GakK/AA3TtwnBA6vhAAAAHkGbi0moQWyZTAh3//6plgANlBZi0zO3q++OqXbq4AAAABBBn6lFFSwv/wAP39ocXPagAAAAEAGfyHRCvwAWLLVA6dqHWoEAAAAPAZ/KakK/ABYuUDyYI3uAAAAAHUGbzUmoQWyZTBRMO//+qZYADae0v7FgOiBbjGJaAAAAEAGf7GpCvwAWJuQw+gJBz2kAAAAbQZvxSeEKUmUwId/+qZYACQ/Hn8uz2oWQpdDfAAAAEEGeD0U0TC//AArNAgpQz5kAAAAPAZ4udEK/AA6Bfi4D8x9AAAAADwGeMGpCvwAOgD+qRQJWxwAAABNBmjVJqEFomUwId//+qZYAAJWBAAAAE0GeU0URLC//AAbCJbNTMsuQ0+IAAAAPAZ5ydEK/AAkrsoUm2SvtAAAADwGedGpCvwAJLs8tw2bVywAAABlBmnlJqEFsmUwId//+qZYABb/fV96KAZNLAAAAEEGel0UVLC//AAbBV3f5yzEAAAAPAZ62dEK/AAktoQGSXUCBAAAADwGeuGpCvwAJLK3SjSHkVgAAABxBmr1JqEFsmUwIb//+p4QABxvYP88grVMhIucZAAAAEEGe20UVLC//AAQ2gOXkeCAAAAAQAZ76dEK/AAXROpPK/JTqcQAAAA8BnvxqQr8AA81fNDrSK4EAAAAZQZrhSahBbJlMCG///qeEAAcRgE9vdT9tBgAAABBBnx9FFSwv/wAENz9zhZ4IAAAADwGfPnRCvwAD4tga6+NvgQAAABABnyBqQr8ABfgWNe80rS7AAAAAGkGbIkmoQWyZTAhv//6nhAAHPB4U6zp918SBAAAAGUGbQ0nhClJlMCHf/qmWAAO6On5TRj9ai8AAAAAbQZtnSeEOiZTAhv/+p4QAB3PYP88grVMhIuaZAAAAEEGfhUURPC//AAR2gOXkdeEAAAAQAZ+kdEK/AAZJ5N5Wyh77wQAAAA8Bn6ZqQr8AA/lfNDrSIYEAAAASQZurSahBaJlMCGf//p4QAAR8AAAAEUGfyUURLC//AAR3jPzvIdeAAAAAEAGf6HRCvwAGIk0InxZinXEAAAAQAZ/qakK/AAZJm5rjxVt94AAAABlBm+xJqEFsmUwIb//+p4QABRsVpBCJ/lyTAAAAGEGaDUnhClJlMCG//qeEAAfA4z/UpALiYQAAABlBmi5J4Q6JlMCHf/6plgAGKqQZoA9JfZdRAAAAFkGaUknhDyZTAhv//qeEAAv/sH+YKoEAAAASQZ5wRRE8L/8AB0IkMLn/d7FsAAAAEAGej3RCvwAJ8mtGSHk4RoAAAAAQAZ6RakK/AAn1hHkuZ8oGgQAAAB5BmpRJqEFomUwU8O/+qZYABjPiEA/v6/qtQshS6M8AAAAQAZ6zakK/AAnzXznWhhfzQAAAABFBmrhJ4QpSZTAhv/6nhAABJwAAABNBntZFNEwv/wAEl9BBNzfrkNWUAAAADwGe9XRCvwAGSAPik2yWSQAAABABnvdqQr8ABknVPJgevn+BAAAAHEGa/EmoQWiZTAhv//6nhAALnitmJ/q7e6n7YTgAAAAQQZ8aRREsL/8ABuhHGdzQoQAAABABnzl0Qr8ACbCAOdscacqgAAAADwGfO2pCvwAJq80TUlQ0gQAAABlBmz1JqEFsmUwIb//+p4QAC+urSCET/LfDAAAAGUGbXknhClJlMCHf/qmWAAlCLDdGIRz7HOAAAAAYQZtiSeEOiZTAhv/+p4QAHR9g/y10ubiwAAAAFEGfgEURPC//ABFY+dM4rD8BIoXBAAAADwGfv3RCvwAX6SzcGyXkoQAAAA8Bn6FqQr8AF+JaVIoErC8AAAAdQZulSahBaJlMCG///qeEABxvfZ91pZjyJ31g9IAAAAASQZ/DRREsK/8AF0wdd5jB2rFdAAAAEAGf5GpCvwAX5m5rjxVtUqEAAAAqQZvoSahBbJlMCG///qeEABSPeMucyyue8fgUqWz8CmdgT2v963LrvyuBAAAAEkGeBkUVLCv/ABBdj7N4amiq1wAAAA8BnidqQr8AEF2I8lzPk1MAAAAZQZopSahBbJlMCG///qeEABSPjToK1mU2hwAAABtBmk1J4QpSZTAhn/6eEABNviH+CwBp4bYKr3EAAAAQQZ5rRTRML/8AC/KtSrU8bAAAAA8Bnop0Qr8AD+F6AyS59oAAAAAQAZ6MakK/AA/gQCdeAKBNgQAAABpBmo5JqEFomUwIb//+p4QACDfHT6jjQkPlQQAAABhBmq9J4QpSZTAhv/6nhAAFa91OP8Pq3IMAAAAdQZrRSeEOiZTBTRMO//6plgAD5jqFkJNzT0Y/Tq4AAAAQAZ7wakK/AAaYFjXvNK0lwAAAABtBmvVJ4Q8mUwIb//6nhAAL66tmJ/q7e6n7YPkAAAAQQZ8TRRE8L/8ABxP4q8jPYAAAABABnzJ0Qr8ACa+okT4sxS8wAAAADwGfNGpCvwAJ8o0TUlQvgQAAABpBmzZJqEFomUwId//+qZYABgvaX87pCmEtsAAAABtBm1pJ4QpSZTAhv/6nhAAHn9g/zyCtUyEi5lkAAAAQQZ94RTRML/8ABJaA5eR04QAAABABn5d0Qr8ABkgFM8r8lOjwAAAADwGfmWpCvwAGcStjCs4EQQAAACdBm51JqEFomUwIb//+p4QABSPdT96N8KFzLK57p+BSpaPwKZ2BuTUAAAATQZ+7RREsK/8ABDglBrj7lG4OQQAAABABn9xqQr8ABFc0bzTFW5bBAAAAH0Gb30moQWyZTBRMN//+p4QAA3fsrA4f1JDT+wXATegAAAAPAZ/+akK/AALW1lM2zI9JAAAAGUGb4UnhClJlMFLDf/6nhAAFQEMu7fYP2OsAAAAPAZ4AakK/AAQ3YjyYHr7fAAAAGUGaAknhDomUwId//qmWAAK3pZXGaX9sUUEAAAApQZomSeEPJlMCHf/+qZYABIfiecyytU1XgUokC8Cma5Y/LoQ9eh5846QAAAAUQZ5ERRE8L/8ABWaBBR/wZSarQ2EAAAAPAZ5jdEK/AASXzBg2Y4sNAAAAEAGeZWpCvwAHQZg8mB6+YoEAAAAhQZpqSahBaJlMCG///qeEAA3OHKpx4EI7aRekog7f783BAAAAEEGeiEURLC//AAguedjgf94AAAAPAZ6ndEK/AAdtsDXXxkmAAAAAEAGeqWpCvwALXg67h9s2ofEAAAAaQZqrSahBbJlMCHf//qmWAAbyCyuM0v7YPaAAAAAWQZrPSeEKUmUwId/+qZYACu/JL8lHoAAAAA5Bnu1FNEwv/wAM4IuT4QAAABABnwx0Qr8AEWEAdCxiTKhhAAAADwGfDmpCvwALPZRus9WgPQAAABxBmxNJqEFomUwIb//+p4QADd+wf5ynXhRrcyU4AAAAEEGfMUURLC//AAgufs3BE/AAAAAPAZ9QdEK/AAtcYxcB+ZthAAAAEAGfUmpCvwALW1851oYX5sAAAAAaQZtWSahBbJlMCG///qeEAAi3x0+o40JD4EAAAAASQZ90RRUsK/8AB0LcB80N/DbhAAAADgGflWpCvwAHQBmPRFmKAAAAGUGbl0moQWyZTAhv//6nhAAFzxWkEIn+XGsAAAAcQZu7SeEKUmUwIb/+p4QACSrNH9DM3up8VlLcvQAAABFBn9lFNEwv/wAFioEFKFEPmAAAAA8Bn/h0Qr8ABLbRi4D88eEAAAAQAZ/6akK/AAdtmDyYHr5dgAAAABxBm/1JqEFomUwU8N/+p4QACTfRz8RbLc4Jon/fAAAAEAGeHGpCvwAHbCATrwBQd4EAAAAZQZoeSeEKUmUwIb/+p4QAA+APCnWdPuxLgAAAABxBmiBJ4Q6JlMFNEw7//qmWAAMBgcJNzT0Y/T3oAAAAEAGeX2pCvwAE+UaJkTStP8EAAAARQZpESeEPJlMCG//+p4QAAScAAAAMQZ5iRRE8L/8AALKBAAAADwGegXRCvwAEyVI4jsuzzwAAABABnoNqQr8ABMlSO9nj7qGBAAAAHEGahkmoQWiZTBTw7/6plgAEgKOoQZoFPox+nL0AAAAQAZ6lakK/AAdBnzG6HJB5eQAAABFBmqpJ4QpSZTAhv/6nhAABJwAAAAxBnshFNEwv/wAAsoAAAAAQAZ7ndEK/AAtfQDn9aBzIIAAAAA8BnulqQr8AB2ucNErnmJMAAAAZQZrtSahBaJlMCG///qeEAAj3x0x/h9W4HwAAAA9BnwtFESwr/wAHQBXDncAAAAANAZ8sakK/AAdCvxhU7wAAABpBmy5JqEFsmUwId//+qZYABGfjzpZ0dTzPwQAAABlBm1FJ4QpSZTAh3/6plgAER+PP37INxWHhAAAAEkGfb0U0TCv/AAbojtzrJ8pDgAAAAA4Bn5BqQr8ABurELveq2QAAABpBm5RJqEFomUwId//+qZYAAtullcZpf2xMwQAAAA9Bn7JFESwr/wAElk3Dx0AAAAAPAZ/TakK/AAcU1DoWjftAAAAAF0Gb2EmoQWyZTAh3//6plgAB1PhR920hAAAAFEGf9kUVLC//AANg5EqmY+Yh+MZGAAAAEAGeFXRCvwAEt3HeVsofIYEAAAAQAZ4XakK/AASXaITcZ9exqQAAABlBmhxJqEFsmUwIb//+p4QABbPdT91vjvTEAAAAEEGeOkUVLC//AANgq8b2ETkAAAAOAZ5ZdEK/AAS3cd55xqcAAAAQAZ5bakK/AAS3NG80xVuQwQAAABlBml9JqEFsmUwIb//+p4QAA7nsHr2Z8EaPAAAAEkGefUUVLCv/AAS3p13d/SMxgAAAAA4Bnp5qQr8ABLZXXceFjAAAABlBmoBJqEFsmUwIb//+p4QAA6PsHr2Z8EaXAAAAG0GapEnhClJlMCG//qeEAAVjFbMT/V291P23GAAAABBBnsJFNEwv/wADOKvG9hG5AAAADwGe4XRCvwAEeEAdCcnCwAAAABABnuNqQr8ABHXmiZE0rUnBAAAAHEGa6EmoQWiZTAhf//6MsAAfLmvosWq14a/TfYEAAAAVQZ8GRREsL/8ABR5WOlxsE96TopqRAAAAEAGfJXRCvwAG6kWVeBFea4EAAAAPAZ8nakK/AAboi+ZtmRxVAAAAGkGbKUuoQhBbJEYIKAfyAf2HgCFf/jhAABFwAAALyG1vb3YAAABsbXZoZAAAAAAAAAAAAAAAAAAAA+gAAB+QAAEAAAEAAAAAAAAAAAAAAAABAAAAAAAAAAAAAAAAAAAAAQAAAAAAAAAAAAAAAAAAQAAAAAAAAAAAAAAAAAAAAAAAAAAAAAAAAAAAAAAAAAIAAArydHJhawAAAFx0a2hkAAAAAwAAAAAAAAAAAAAAAQAAAAAAAB+QAAAAAAAAAAAAAAAAAAAAAAABAAAAAAAAAAAAAAAAAAAAAQAAAAAAAAAAAAAAAAAAQAAAAAEQAAABEAAAAAAAJGVkdHMAAAAcZWxzdAAAAAAAAAABAAAfkAAABAAAAQAAAAAKam1kaWEAAAAgbWRoZAAAAAAAAAAAAAAAAAAAMgAAAZQAVcQAAAAAAC1oZGxyAAAAAAAAAAB2aWRlAAAAAAAAAAAAAAAAVmlkZW9IYW5kbGVyAAAAChVtaW5mAAAAFHZtaGQAAAABAAAAAAAAAAAAAAAkZGluZgAAABxkcmVmAAAAAAAAAAEAAAAMdXJsIAAAAAEAAAnVc3RibAAAAJVzdHNkAAAAAAAAAAEAAACFYXZjMQAAAAAAAAABAAAAAAAAAAAAAAAAAAAAAAEQARAASAAAAEgAAAAAAAAAAQAAAAAAAAAAAAAAAAAAAAAAAAAAAAAAAAAAAAAAAAAAABj//wAAAC9hdmNDAfQADf/hABdn9AANkZsoIhHQgAAAAwCAAAAZB4oUywEABWjr48RIAAAAGHN0dHMAAAAAAAAAAQAAAMoAAAIAAAAAFHN0c3MAAAAAAAAAAQAAAAEAAAWgY3R0cwAAAAAAAACyAAAABgAABAAAAAABAAAKAAAAAAEAAAQAAAAAAQAAAAAAAAABAAACAAAAAAIAAAQAAAAAAQAACgAAAAABAAAEAAAAAAEAAAAAAAAAAQAAAgAAAAABAAAEAAAAAAEAAAgAAAAAAgAAAgAAAAABAAAEAAAAAAEAAAgAAAAAAgAAAgAAAAABAAAEAAAAAAEAAAgAAAAAAgAAAgAAAAABAAAGAAAAAAEAAAIAAAAAAQAACAAAAAACAAACAAAAAAEAAAoAAAAAAQAABAAAAAABAAAAAAAAAAEAAAIAAAAAAQAACAAAAAACAAACAAAAAAEAAAoAAAAAAQAABAAAAAABAAAAAAAAAAEAAAIAAAAAAQAABgAAAAABAAACAAAAAAEAAAoAAAAAAQAABAAAAAABAAAAAAAAAAEAAAIAAAAAAQAACgAAAAABAAAEAAAAAAEAAAAAAAAAAQAAAgAAAAABAAAKAAAAAAEAAAQAAAAAAQAAAAAAAAABAAACAAAAAAEAAAoAAAAAAQAABAAAAAABAAAAAAAAAAEAAAIAAAAAAQAACgAAAAABAAAEAAAAAAEAAAAAAAAAAQAAAgAAAAACAAAEAAAAAAEAAAoAAAAAAQAABAAAAAABAAAAAAAAAAEAAAIAAAAAAQAACgAAAAABAAAEAAAAAAEAAAAAAAAAAQAAAgAAAAADAAAEAAAAAAEAAAoAAAAAAQAABAAAAAABAAAAAAAAAAEAAAIAAAAAAQAABgAAAAABAAACAAAAAAEAAAoAAAAAAQAABAAAAAABAAAAAAAAAAEAAAIAAAAAAQAACgAAAAABAAAEAAAAAAEAAAAAAAAAAQAAAgAAAAACAAAEAAAAAAEAAAoAAAAAAQAABAAAAAABAAAAAAAAAAEAAAIAAAAAAQAACAAAAAACAAACAAAAAAEAAAgAAAAAAgAAAgAAAAABAAAEAAAAAAEAAAoAAAAAAQAABAAAAAABAAAAAAAAAAEAAAIAAAAAAgAABAAAAAABAAAGAAAAAAEAAAIAAAAAAQAACgAAAAABAAAEAAAAAAEAAAAAAAAAAQAAAgAAAAABAAAEAAAAAAEAAAoAAAAAAQAABAAAAAABAAAAAAAAAAEAAAIAAAAAAQAACAAAAAACAAACAAAAAAEAAAYAAAAAAQAAAgAAAAABAAAGAAAAAAEAAAIAAAAAAQAABAAAAAABAAAKAAAAAAEAAAQAAAAAAQAAAAAAAAABAAACAAAAAAEAAAoAAAAAAQAABAAAAAABAAAAAAAAAAEAAAIAAAAAAQAABAAAAAABAAAKAAAAAAEAAAQAAAAAAQAAAAAAAAABAAACAAAAAAEAAAoAAAAAAQAABAAAAAABAAAAAAAAAAEAAAIAAAAAAQAACAAAAAACAAACAAAAAAEAAAQAAAAAAQAACgAAAAABAAAEAAAAAAEAAAAAAAAAAQAAAgAAAAABAAAGAAAAAAEAAAIAAAAAAQAABAAAAAABAAAGAAAAAAEAAAIAAAAAAQAACgAAAAABAAAEAAAAAAEAAAAAAAAAAQAAAgAAAAABAAAGAAAAAAEAAAIAAAAAAQAACgAAAAABAAAEAAAAAAEAAAAAAAAAAQAAAgAAAAABAAAIAAAAAAIAAAIAAAAAAQAABAAAAAABAAAIAAAAAAIAAAIAAAAAAQAACAAAAAACAAACAAAAAAEAAAoAAAAAAQAABAAAAAABAAAAAAAAAAEAAAIAAAAAAQAACgAAAAABAAAEAAAAAAEAAAAAAAAAAQAAAgAAAAABAAAIAAAAAAIAAAIAAAAAAQAABAAAAAABAAAKAAAAAAEAAAQAAAAAAQAAAAAAAAABAAACAAAAAAEAAAoAAAAAAQAABAAAAAABAAAAAAAAAAEAAAIAAAAAAQAABAAAAAAcc3RzYwAAAAAAAAABAAAAAQAAAMoAAAABAAADPHN0c3oAAAAAAAAAAAAAAMoAAAWJAAAAFwAAABsAAAAcAAAAHQAAAB4AAAAjAAAAGgAAABQAAAAUAAAAHwAAABwAAAAaAAAAEgAAABMAAAAUAAAAHgAAACMAAAAWAAAAFAAAAB0AAAAdAAAAFQAAABIAAAAdAAAAGgAAABYAAAASAAAAIAAAABQAAAAdAAAAFgAAABIAAAAgAAAAFAAAABMAAAAUAAAAHgAAABYAAAATAAAAIgAAABQAAAAUAAAAEwAAACEAAAAUAAAAHwAAABQAAAATAAAAEwAAABcAAAAXAAAAEwAAABMAAAAdAAAAFAAAABMAAAATAAAAIAAAABQAAAAUAAAAEwAAAB0AAAAUAAAAEwAAABQAAAAeAAAAHQAAAB8AAAAUAAAAFAAAABMAAAAWAAAAFQAAABQAAAAUAAAAHQAAABwAAAAdAAAAGgAAABYAAAAUAAAAFAAAACIAAAAUAAAAFQAAABcAAAATAAAAFAAAACAAAAAUAAAAFAAAABMAAAAdAAAAHQAAABwAAAAYAAAAEwAAABMAAAAhAAAAFgAAABQAAAAuAAAAFgAAABMAAAAdAAAAHwAAABQAAAATAAAAFAAAAB4AAAAcAAAAIQAAABQAAAAfAAAAFAAAABQAAAATAAAAHgAAAB8AAAAUAAAAFAAAABMAAAArAAAAFwAAABQAAAAjAAAAEwAAAB0AAAATAAAAHQAAAC0AAAAYAAAAEwAAABQAAAAlAAAAFAAAABMAAAAUAAAAHgAAABoAAAASAAAAFAAAABMAAAAgAAAAFAAAABMAAAAUAAAAHgAAABYAAAASAAAAHQAAACAAAAAVAAAAEwAAABQAAAAgAAAAFAAAAB0AAAAgAAAAFAAAABUAAAAQAAAAEwAAABQAAAAgAAAAFAAAABUAAAAQAAAAFAAAABMAAAAdAAAAEwAAABEAAAAeAAAAHQAAABYAAAASAAAAHgAAABMAAAATAAAAGwAAABgAAAAUAAAAFAAAAB0AAAAUAAAAEgAAABQAAAAdAAAAFgAAABIAAAAdAAAAHwAAABQAAAATAAAAFAAAACAAAAAZAAAAFAAAABMAAAAeAAAAFHN0Y28AAAAAAAAAAQAAADAAAABidWR0YQAAAFptZXRhAAAAAAAAACFoZGxyAAAAAAAAAABtZGlyYXBwbAAAAAAAAAAAAAAAAC1pbHN0AAAAJal0b28AAAAdZGF0YQAAAAEAAAAATGF2ZjU3LjgzLjEwMA==\" type=\"video/mp4\" />\n",
              "             </video>"
            ],
            "text/plain": [
              "<IPython.core.display.HTML object>"
            ]
          },
          "metadata": {
            "tags": []
          },
          "execution_count": 8
        }
      ]
    },
    {
      "cell_type": "markdown",
      "metadata": {
        "id": "jLE-tAon5BgU",
        "colab_type": "text"
      },
      "source": [
        "***\n",
        "## DQN"
      ]
    },
    {
      "cell_type": "markdown",
      "metadata": {
        "id": "pTHfCGBN5BgV",
        "colab_type": "text"
      },
      "source": [
        "Let us assume here that $T=\\infty$.\n",
        "\n",
        "***\n",
        "__Question 5__ Let $\\pi$ be a policy, show that:\n",
        "\n",
        "\\begin{equation*}\n",
        "Q^{\\pi}(s,a)=E_{(s',a')\\sim p(.|s,a)}[r(s,a)+\\gamma Q^{\\pi}(s',a')]\n",
        "\\end{equation*}\n",
        "\n",
        "Then, show that for the optimal policy $\\pi^*$ (we assume its existence), the following holds: \n",
        "\n",
        "\\begin{equation*}\n",
        "Q^{*}(s,a)=E_{s'\\sim \\pi^*(.|s,a)}[r(s,a)+\\gamma\\max_{a'}Q^{*}(s',a')].\n",
        "\\end{equation*}\n",
        "Finally, deduce that a plausible objective is:\n",
        "\n",
        "\\begin{equation*}\n",
        "\\mathcal{L}(\\theta)=E_{s' \\sim \\pi^*(.|s,a)}\\Vert r+\\gamma\\max_{a'}Q(s',a',\\theta)-Q(s,a,\\theta)\\Vert^{2}.\n",
        "\\end{equation*}\n",
        "\n",
        "\n"
      ]
    },
    {
      "cell_type": "markdown",
      "metadata": {
        "id": "S1aP09ax5BgW",
        "colab_type": "text"
      },
      "source": [
        "__Answer__: \n",
        "\n",
        "We have : \\begin{equation*}\n",
        "\\begin{aligned}\n",
        "    Q^\\pi(s,a) &= \\mathbb E_{p^\\pi}\\left[\n",
        "        \\sum_{t=0} \\gamma^{t}r(s_t,a_t) | s_1=s, a_1=a\n",
        "    \\right]  \\\\\n",
        "    &= r(s,a) + \\gamma \\mathbb E_{p^\\pi}\\left[\n",
        "        \\sum_{t=1} \\gamma^{t-1}r(s_t,a_t) | s_1=s, a_1=a\n",
        "    \\right]  \\\\\n",
        "    &= r(s,a) + \\gamma \\mathbb E_{(s',a')\\sim p(\\cdot|s,a)}\\left[\n",
        "        \\mathbb E_{p^\\pi}\\left[\n",
        "        \\sum_{t=0} \\gamma^{t}r(s_t,a_t) | s_0=s', a_0=a'\n",
        "        \\right]\n",
        "    \\right]  \\\\\n",
        "    &= r(s,a) + \\gamma \\mathbb E_{(s',a')\\sim p(\\cdot|s,a)}\\left[\n",
        "        Q^\\pi(s',a')\n",
        "    \\right]\n",
        "\\end{aligned}\n",
        "\\end{equation*}\n",
        "\n",
        "Therefore, \n",
        "$$\n",
        "\\begin{aligned}\n",
        "    Q^*(s,a) &= Q^{\\pi^*}(s,a)  \\\\\n",
        "    &= r(s,a) + \\gamma \\mathbb E_{(s',a')\\sim p^{\\pi^*}(s,a)}[\n",
        "        Q^{\\pi^*}(s',a')\n",
        "    ]\n",
        "\\end{aligned}\n",
        "$$\n",
        "since $ \\pi^* $ is deterministic ( $argmax(Q^*)$) :\n",
        "$$\n",
        "\\begin{aligned}\n",
        "    Q^*(s,a) = r(s,a) + \\gamma \\mathbb E_{s'\\sim p(\\cdot|s,a)}\n",
        "    \\left[\n",
        "        \\max_{a'} Q^*(s',a')\n",
        "    \\right]\n",
        "\\end{aligned}\n",
        "$$\n",
        "\n",
        "Since $Q^*$ should satisfy the previous equation, we can choose to minimise the $L^2$ distance $\\Vert r+\\gamma\\max_{a'}Q(s',a',\\theta)-Q(s,a,\\theta)\\Vert^{2}$\n"
      ]
    },
    {
      "cell_type": "markdown",
      "metadata": {
        "id": "bR5Giu7A5BgX",
        "colab_type": "text"
      },
      "source": [
        "***\n",
        "The DQN-learning algorithm relies on these derivations to train the parameters $\\theta$ of a Deep Neural Network:\n",
        "\n",
        "1. At the state $s_t$, select the action $a_t$ with best reward using $Q_t$ and store the results;\n",
        "\n",
        "2. Obtain the new state $s_{t+1}$ from the environment $p$;\n",
        "\n",
        "3. Store $(s_t,a_t,s_{t+1})$;\n",
        "\n",
        "4. Obtain $Q_{t+1}$ by minimizing  $\\mathcal{L}$ from a recovered batch from the previously stored results.\n",
        "\n",
        "***\n",
        "__Question 6__ Implement the class ```Memory``` that stores moves (in a replay buffer) via ```remember``` and provides a ```random_access``` to these. Specify a maximum memory size to avoid side effects. You can for example use a ```list()``` and set by default ```max_memory=100```."
      ]
    },
    {
      "cell_type": "code",
      "metadata": {
        "id": "imRofbdy5BgY",
        "colab_type": "code",
        "colab": {}
      },
      "source": [
        "class Memory(object):\n",
        "    def __init__(self, max_memory=100):\n",
        "        self.max_memory = max_memory\n",
        "        self.memory = list()\n",
        "\n",
        "    def remember(self, m):\n",
        "        if len(self.memory) <= self.max_memory:\n",
        "            self.memory.append(m)\n",
        "        else:\n",
        "            del self.memory[0]  \n",
        "\n",
        "    def random_access(self, size=1):\n",
        "        idx = np.random.randint(0,len(self.memory),size=size) \n",
        "        return np.array(self.memory)[idx]"
      ],
      "execution_count": 0,
      "outputs": []
    },
    {
      "cell_type": "markdown",
      "metadata": {
        "id": "YU6ArS3B5Bgc",
        "colab_type": "text"
      },
      "source": [
        "***\n",
        "The pipeline we will use for training is given below:"
      ]
    },
    {
      "cell_type": "code",
      "metadata": {
        "id": "ypOJGsgE5Bgd",
        "colab_type": "code",
        "colab": {}
      },
      "source": [
        "def train(agent,env,epoch,prefix=''):\n",
        "    # Number of won games\n",
        "    score = 0\n",
        "    loss = 0\n",
        "\n",
        "    for e in range(epoch):\n",
        "        # At each epoch, we restart to a fresh game and get the initial state\n",
        "        state = env.reset()\n",
        "        # This assumes that the games will terminate\n",
        "        game_over = False\n",
        "\n",
        "        win = 0\n",
        "        lose = 0\n",
        "\n",
        "        while not game_over:\n",
        "            # The agent performs an action\n",
        "            action = agent.act(state)\n",
        "\n",
        "            # Apply an action to the environment, get the next state, the reward\n",
        "            # and if the games end\n",
        "            prev_state = state\n",
        "            state, reward, game_over = env.act(action)\n",
        "\n",
        "            # Update the counters\n",
        "            if reward > 0:\n",
        "                win = win + reward\n",
        "            if reward < 0:\n",
        "                lose = lose -reward\n",
        "\n",
        "            # Apply the reinforcement strategy\n",
        "            loss = agent.reinforce(prev_state, state,  action, reward, game_over)\n",
        "\n",
        "        # Save as a mp4\n",
        "        if e % 10 == 0:\n",
        "            env.draw(prefix+str(e))\n",
        "\n",
        "        # Update stats\n",
        "        score += win-lose\n",
        "\n",
        "        print(\"Epoch {:03d}/{:03d} | Loss {:.4f} | Win/lose count {}/{} ({})\"\n",
        "              .format(e, epoch, loss, win, lose, win-lose))\n",
        "        agent.save(name_weights=prefix+'model.h5',name_model=prefix+'model.json')"
      ],
      "execution_count": 0,
      "outputs": []
    },
    {
      "cell_type": "markdown",
      "metadata": {
        "id": "-ldwyZst5Bgh",
        "colab_type": "text"
      },
      "source": [
        "***\n",
        "__Question 7__ Implement the DQN training algorithm using a cascade of fully connected layers. You can use different learning rate, batch size or memory size parameters. In particular, the loss might oscillate while the player will start to win the games. You have to find a good criterium."
      ]
    },
    {
      "cell_type": "code",
      "metadata": {
        "id": "OKQt-u3E5Bgi",
        "colab_type": "code",
        "colab": {}
      },
      "source": [
        "class DQN(Agent):\n",
        "    def __init__(self, grid_size,  epsilon = 0.1, memory_size=100, batch_size = 16,n_state=2):\n",
        "        super(DQN, self).__init__(epsilon = epsilon)\n",
        "\n",
        "        # Discount for Q learning\n",
        "        self.discount = 0.99\n",
        "        \n",
        "        self.grid_size = grid_size\n",
        "        \n",
        "        # number of state\n",
        "        self.n_state = n_state\n",
        "\n",
        "        # Memory\n",
        "        self.memory = Memory(memory_size)\n",
        "        \n",
        "        # Batch size when learning\n",
        "        self.batch_size = batch_size\n",
        "\n",
        "    def learned_act(self, s):\n",
        "        return np.argmax(self.model.predict(s[None]))\n",
        "\n",
        "    def reinforce(self, s_, n_s_, a_, r_, game_over_):\n",
        "        # Two steps: first memorize the states, second learn from the pool\n",
        "\n",
        "        self.memory.remember([s_, n_s_, a_, r_, game_over_])\n",
        "        \n",
        "        input_states = np.zeros((self.batch_size, 5,5,self.n_state))\n",
        "        target_q = np.zeros((self.batch_size, 4))\n",
        "        next_states = np.zeros((self.batch_size, 5,5,self.n_state))\n",
        "        \n",
        "        samples = self.memory.random_access(self.batch_size) # draw batch_size samples from memory\n",
        "        actions = []\n",
        "        rewards = []\n",
        "        dones = []\n",
        "        \n",
        "        for i in range(self.batch_size):\n",
        "            s_, n_s_, a_, r_, game_over_ = samples[i] \n",
        "            # store corresponding  s,a,s',r, game_over in arrays for later use in Batch mode\n",
        "            input_states[i] = s_\n",
        "            next_states[i] = n_s_\n",
        "            actions.append(a_)\n",
        "            rewards.append(r_)\n",
        "            dones.append(game_over_)\n",
        "        \n",
        "        # Batch-prediction to make computations faster    \n",
        "        target_q = self.model.predict(input_states)\n",
        "        next_q = self.model.predict(next_states)\n",
        "        \n",
        "        for i in range(self.batch_size):\n",
        "            if dones[i]:\n",
        "                # If the state is terminal, it's Q value is simply the collected reward\n",
        "                target_q[i, actions[i]] = rewards[i] \n",
        "            else:\n",
        "                # target according to equation proved in question 5\n",
        "                target_q[i, actions[i]] = rewards[i] + self.discount * next_q[i].max()\n",
        "            \n",
        "\n",
        "        # HINT: Clip the target to avoid exploiding gradients.. -- clipping is a bit tighter\n",
        "        target_q = np.clip(target_q, -3, 3)\n",
        "\n",
        "        l = self.model.train_on_batch(input_states, target_q)\n",
        "\n",
        "\n",
        "        return l\n",
        "\n",
        "    def save(self,name_weights='model.h5',name_model='model.json'):\n",
        "        self.model.save_weights(name_weights, overwrite=True)\n",
        "        with open(name_model, \"w\") as outfile:\n",
        "            json.dump(self.model.to_json(), outfile)\n",
        "            \n",
        "    def load(self,name_weights='model.h5',name_model='model.json'):\n",
        "        with open(name_model, \"r\") as jfile:\n",
        "            model = model_from_json(json.load(jfile))\n",
        "        model.load_weights(name_weights)\n",
        "        model.compile(\"sgd\", \"mse\")\n",
        "        self.model = model\n",
        "\n",
        "            \n",
        "class DQN_FC(DQN):\n",
        "    def __init__(self, *args, lr=0.1,**kwargs):\n",
        "        super(DQN_FC, self).__init__( *args,**kwargs)\n",
        "        \n",
        "        # NN Model \n",
        "        in_shape = (5, 5, self.n_state)\n",
        "        \n",
        "        fc1_size = 32 # size of first hidden layer\n",
        "        fc2_size = 32 # size of second hidden layer\n",
        "        \n",
        "        out_shape = self.n_action\n",
        "        \n",
        "        # Input: 5x5 neighborhood of the current state s.\n",
        "        \n",
        "        model: Sequential = Sequential([\n",
        "            keras.layers.Flatten(input_shape=in_shape),\n",
        "            Dense(fc1_size, activation='relu'),\n",
        "            Dense(fc2_size, activation='relu'),\n",
        "            Dense(out_shape)  # output layer\n",
        "        ])\n",
        "        # Output: Prediction of the Q values Q(s, a) for all actions a, s being the current state.\n",
        "        \n",
        "        model.compile(keras.optimizers.adam(lr=lr), \"mse\")\n",
        "        self.model = model\n",
        "        "
      ],
      "execution_count": 0,
      "outputs": []
    },
    {
      "cell_type": "code",
      "metadata": {
        "scrolled": true,
        "id": "sCNxSv065Bgm",
        "colab_type": "code",
        "colab": {},
        "outputId": "4f294fa1-8bf5-46c2-a7e9-3cd191dbf5e4"
      },
      "source": [
        "env = Environment(grid_size=size, max_time=T, temperature=0.3)\n",
        "agent = DQN_FC(size, lr=1e-4, epsilon = 0.1, memory_size=2000, batch_size = 32)\n",
        "train(agent, env, 200, prefix='fc_train')\n",
        "HTML(display_videos('fc_train10.mp4'))"
      ],
      "execution_count": 0,
      "outputs": [
        {
          "output_type": "stream",
          "text": [
            "WARNING:tensorflow:From /home/aymen/anaconda3/lib/python3.7/site-packages/tensorflow/python/ops/resource_variable_ops.py:435: colocate_with (from tensorflow.python.framework.ops) is deprecated and will be removed in a future version.\n",
            "Instructions for updating:\n",
            "Colocations handled automatically by placer.\n",
            "WARNING:tensorflow:From /home/aymen/anaconda3/lib/python3.7/site-packages/tensorflow/python/ops/math_ops.py:3066: to_int32 (from tensorflow.python.ops.math_ops) is deprecated and will be removed in a future version.\n",
            "Instructions for updating:\n",
            "Use tf.cast instead.\n",
            "Epoch 000/200 | Loss 0.0105 | Win/lose count 2.5/6.0 (-3.5)\n",
            "Epoch 001/200 | Loss 0.0160 | Win/lose count 4.5/7.0 (-2.5)\n",
            "Epoch 002/200 | Loss 0.0168 | Win/lose count 4.0/4.0 (0.0)\n",
            "Epoch 003/200 | Loss 0.0146 | Win/lose count 2.0/4.0 (-2.0)\n",
            "Epoch 004/200 | Loss 0.0136 | Win/lose count 3.5/3.0 (0.5)\n",
            "Epoch 005/200 | Loss 0.0082 | Win/lose count 2.5/3.0 (-0.5)\n",
            "Epoch 006/200 | Loss 0.0040 | Win/lose count 3.0/6.0 (-3.0)\n",
            "Epoch 007/200 | Loss 0.0022 | Win/lose count 2.5/3.0 (-0.5)\n",
            "Epoch 008/200 | Loss 0.0075 | Win/lose count 5.0/5.0 (0.0)\n",
            "Epoch 009/200 | Loss 0.0139 | Win/lose count 7.5/5.0 (2.5)\n",
            "Epoch 010/200 | Loss 0.0030 | Win/lose count 2.0/1.0 (1.0)\n",
            "Epoch 011/200 | Loss 0.0353 | Win/lose count 7.5/7.0 (0.5)\n",
            "Epoch 012/200 | Loss 0.0569 | Win/lose count 6.0/3.0 (3.0)\n",
            "Epoch 013/200 | Loss 0.0366 | Win/lose count 1.5/3.0 (-1.5)\n",
            "Epoch 014/200 | Loss 0.0095 | Win/lose count 3.5/4.0 (-0.5)\n",
            "Epoch 015/200 | Loss 0.0242 | Win/lose count 1.5/1.0 (0.5)\n",
            "Epoch 016/200 | Loss 0.0068 | Win/lose count 5.0/3.0 (2.0)\n",
            "Epoch 017/200 | Loss 0.0037 | Win/lose count 1.0/2.0 (-1.0)\n",
            "Epoch 018/200 | Loss 0.0149 | Win/lose count 6.0/5.0 (1.0)\n",
            "Epoch 019/200 | Loss 0.0035 | Win/lose count 2.5/2.0 (0.5)\n",
            "Epoch 020/200 | Loss 0.0062 | Win/lose count 4.0/5.0 (-1.0)\n",
            "Epoch 021/200 | Loss 0.0658 | Win/lose count 4.0/7.0 (-3.0)\n",
            "Epoch 022/200 | Loss 0.0137 | Win/lose count 4.5/3.0 (1.5)\n",
            "Epoch 023/200 | Loss 0.0210 | Win/lose count 2.0/1.0 (1.0)\n",
            "Epoch 024/200 | Loss 0.0072 | Win/lose count 2.5/2.0 (0.5)\n",
            "Epoch 025/200 | Loss 0.0058 | Win/lose count 0.5/4.0 (-3.5)\n",
            "Epoch 026/200 | Loss 0.0676 | Win/lose count 4.0/8.0 (-4.0)\n",
            "Epoch 027/200 | Loss 0.0046 | Win/lose count 0.5/2.0 (-1.5)\n",
            "Epoch 028/200 | Loss 0.0054 | Win/lose count 3.0/4.0 (-1.0)\n",
            "Epoch 029/200 | Loss 0.0040 | Win/lose count 4.5/2.0 (2.5)\n",
            "Epoch 030/200 | Loss 0.0052 | Win/lose count 4.5/1.0 (3.5)\n",
            "Epoch 031/200 | Loss 0.0586 | Win/lose count 2.0/2.0 (0.0)\n",
            "Epoch 032/200 | Loss 0.0388 | Win/lose count 1.0/4.0 (-3.0)\n",
            "Epoch 033/200 | Loss 0.0093 | Win/lose count 2.0/0 (2.0)\n",
            "Epoch 034/200 | Loss 0.0072 | Win/lose count 4.0/1.0 (3.0)\n",
            "Epoch 035/200 | Loss 0.0056 | Win/lose count 7.0/2.0 (5.0)\n",
            "Epoch 036/200 | Loss 0.0035 | Win/lose count 5.0/1.0 (4.0)\n",
            "Epoch 037/200 | Loss 0.0045 | Win/lose count 3.0/4.0 (-1.0)\n",
            "Epoch 038/200 | Loss 0.0694 | Win/lose count 2.5/1.0 (1.5)\n",
            "Epoch 039/200 | Loss 0.0118 | Win/lose count 6.5/2.0 (4.5)\n",
            "Epoch 040/200 | Loss 0.0043 | Win/lose count 4.0/4.0 (0.0)\n",
            "Epoch 041/200 | Loss 0.0090 | Win/lose count 2.5/4.0 (-1.5)\n",
            "Epoch 042/200 | Loss 0.0650 | Win/lose count 4.5/4.0 (0.5)\n",
            "Epoch 043/200 | Loss 0.0061 | Win/lose count 2.5/3.0 (-0.5)\n",
            "Epoch 044/200 | Loss 0.0099 | Win/lose count 5.5/2.0 (3.5)\n",
            "Epoch 045/200 | Loss 0.0043 | Win/lose count 3.0/3.0 (0.0)\n",
            "Epoch 046/200 | Loss 0.0060 | Win/lose count 5.0/4.0 (1.0)\n",
            "Epoch 047/200 | Loss 0.0058 | Win/lose count 4.5/5.0 (-0.5)\n",
            "Epoch 048/200 | Loss 0.0451 | Win/lose count 3.0/2.0 (1.0)\n",
            "Epoch 049/200 | Loss 0.0074 | Win/lose count 4.5/3.0 (1.5)\n",
            "Epoch 050/200 | Loss 0.0067 | Win/lose count 2.5/3.0 (-0.5)\n",
            "Epoch 051/200 | Loss 0.0045 | Win/lose count 1.5/2.0 (-0.5)\n",
            "Epoch 052/200 | Loss 0.0028 | Win/lose count 4.0/0 (4.0)\n",
            "Epoch 053/200 | Loss 0.0541 | Win/lose count 2.0/4.0 (-2.0)\n",
            "Epoch 054/200 | Loss 0.0501 | Win/lose count 2.5/2.0 (0.5)\n",
            "Epoch 055/200 | Loss 0.0070 | Win/lose count 3.0/4.0 (-1.0)\n",
            "Epoch 056/200 | Loss 0.0030 | Win/lose count 3.0/4.0 (-1.0)\n",
            "Epoch 057/200 | Loss 0.0026 | Win/lose count 2.0/2.0 (0.0)\n",
            "Epoch 058/200 | Loss 0.0060 | Win/lose count 4.5/0 (4.5)\n",
            "Epoch 059/200 | Loss 0.0052 | Win/lose count 2.0/0 (2.0)\n",
            "Epoch 060/200 | Loss 0.0061 | Win/lose count 4.0/8.0 (-4.0)\n",
            "Epoch 061/200 | Loss 0.0332 | Win/lose count 4.5/3.0 (1.5)\n",
            "Epoch 062/200 | Loss 0.0042 | Win/lose count 7.0/4.0 (3.0)\n",
            "Epoch 063/200 | Loss 0.0014 | Win/lose count 3.0/1.0 (2.0)\n",
            "Epoch 064/200 | Loss 0.0053 | Win/lose count 3.5/3.0 (0.5)\n",
            "Epoch 065/200 | Loss 0.0044 | Win/lose count 0/2.0 (-2.0)\n",
            "Epoch 066/200 | Loss 0.0021 | Win/lose count 6.5/3.0 (3.5)\n",
            "Epoch 067/200 | Loss 0.0676 | Win/lose count 3.0/3.0 (0.0)\n",
            "Epoch 068/200 | Loss 0.0529 | Win/lose count 4.0/2.0 (2.0)\n",
            "Epoch 069/200 | Loss 0.0125 | Win/lose count 1.5/1.0 (0.5)\n",
            "Epoch 070/200 | Loss 0.0023 | Win/lose count 2.5/2.0 (0.5)\n",
            "Epoch 071/200 | Loss 0.0041 | Win/lose count 5.5/1.0 (4.5)\n",
            "Epoch 072/200 | Loss 0.0524 | Win/lose count 1.5/0 (1.5)\n",
            "Epoch 073/200 | Loss 0.0053 | Win/lose count 1.5/1.0 (0.5)\n",
            "Epoch 074/200 | Loss 0.0049 | Win/lose count 2.0/0 (2.0)\n",
            "Epoch 075/200 | Loss 0.0027 | Win/lose count 6.0/0 (6.0)\n",
            "Epoch 076/200 | Loss 0.0088 | Win/lose count 11.0/3.0 (8.0)\n",
            "Epoch 077/200 | Loss 0.0072 | Win/lose count 5.0/2.0 (3.0)\n",
            "Epoch 078/200 | Loss 0.0039 | Win/lose count 7.5/1.0 (6.5)\n",
            "Epoch 079/200 | Loss 0.0062 | Win/lose count 4.0/3.0 (1.0)\n",
            "Epoch 080/200 | Loss 0.0041 | Win/lose count 6.5/2.0 (4.5)\n",
            "Epoch 081/200 | Loss 0.0077 | Win/lose count 8.0/3.0 (5.0)\n",
            "Epoch 082/200 | Loss 0.1096 | Win/lose count 8.0/5.0 (3.0)\n",
            "Epoch 083/200 | Loss 0.0077 | Win/lose count 7.0/4.0 (3.0)\n",
            "Epoch 084/200 | Loss 0.0033 | Win/lose count 5.0/4.0 (1.0)\n",
            "Epoch 085/200 | Loss 0.0022 | Win/lose count 2.0/2.0 (0.0)\n",
            "Epoch 086/200 | Loss 0.0041 | Win/lose count 7.5/3.0 (4.5)\n",
            "Epoch 087/200 | Loss 0.0413 | Win/lose count 12.0/5.0 (7.0)\n",
            "Epoch 088/200 | Loss 0.0554 | Win/lose count 12.0/1.0 (11.0)\n",
            "Epoch 089/200 | Loss 0.0096 | Win/lose count 9.0/4.0 (5.0)\n",
            "Epoch 090/200 | Loss 0.0036 | Win/lose count 6.5/1.0 (5.5)\n",
            "Epoch 091/200 | Loss 0.0062 | Win/lose count 5.5/7.0 (-1.5)\n",
            "Epoch 092/200 | Loss 0.0042 | Win/lose count 2.0/1.0 (1.0)\n",
            "Epoch 093/200 | Loss 0.0066 | Win/lose count 9.0/4.0 (5.0)\n",
            "Epoch 094/200 | Loss 0.0030 | Win/lose count 14.5/2.0 (12.5)\n",
            "Epoch 095/200 | Loss 0.0035 | Win/lose count 3.0/2.0 (1.0)\n",
            "Epoch 096/200 | Loss 0.0028 | Win/lose count 6.5/1.0 (5.5)\n",
            "Epoch 097/200 | Loss 0.0801 | Win/lose count 1.5/3.0 (-1.5)\n",
            "Epoch 098/200 | Loss 0.0423 | Win/lose count 6.0/1.0 (5.0)\n",
            "Epoch 099/200 | Loss 0.0071 | Win/lose count 4.0/3.0 (1.0)\n",
            "Epoch 100/200 | Loss 0.0063 | Win/lose count 5.0/3.0 (2.0)\n",
            "Epoch 101/200 | Loss 0.0033 | Win/lose count 5.5/2.0 (3.5)\n",
            "Epoch 102/200 | Loss 0.0021 | Win/lose count 6.0/1.0 (5.0)\n",
            "Epoch 103/200 | Loss 0.0022 | Win/lose count 3.5/0 (3.5)\n",
            "Epoch 104/200 | Loss 0.0029 | Win/lose count 8.0/1.0 (7.0)\n",
            "Epoch 105/200 | Loss 0.0061 | Win/lose count 10.0/2.0 (8.0)\n",
            "Epoch 106/200 | Loss 0.0027 | Win/lose count 7.0/3.0 (4.0)\n",
            "Epoch 107/200 | Loss 0.0063 | Win/lose count 4.0/0 (4.0)\n",
            "Epoch 108/200 | Loss 0.0025 | Win/lose count 4.5/2.0 (2.5)\n",
            "Epoch 109/200 | Loss 0.0623 | Win/lose count 9.0/3.0 (6.0)\n",
            "Epoch 110/200 | Loss 0.0050 | Win/lose count 10.0/3.0 (7.0)\n",
            "Epoch 111/200 | Loss 0.0036 | Win/lose count 10.0/5.0 (5.0)\n",
            "Epoch 112/200 | Loss 0.0030 | Win/lose count 2.5/2.0 (0.5)\n",
            "Epoch 113/200 | Loss 0.0024 | Win/lose count 7.5/3.0 (4.5)\n",
            "Epoch 114/200 | Loss 0.0045 | Win/lose count 6.0/2.0 (4.0)\n",
            "Epoch 115/200 | Loss 0.0018 | Win/lose count 5.0/2.0 (3.0)\n",
            "Epoch 116/200 | Loss 0.0015 | Win/lose count 4.5/0 (4.5)\n",
            "Epoch 117/200 | Loss 0.0015 | Win/lose count 6.5/2.0 (4.5)\n",
            "Epoch 118/200 | Loss 0.0048 | Win/lose count 5.0/0 (5.0)\n",
            "Epoch 119/200 | Loss 0.0028 | Win/lose count 10.0/2.0 (8.0)\n",
            "Epoch 120/200 | Loss 0.0031 | Win/lose count 8.0/1.0 (7.0)\n",
            "Epoch 121/200 | Loss 0.0055 | Win/lose count 1.0/0 (1.0)\n",
            "Epoch 122/200 | Loss 0.0033 | Win/lose count 5.0/3.0 (2.0)\n",
            "Epoch 123/200 | Loss 0.0027 | Win/lose count 7.5/0 (7.5)\n",
            "Epoch 124/200 | Loss 0.0034 | Win/lose count 6.0/3.0 (3.0)\n",
            "Epoch 125/200 | Loss 0.0029 | Win/lose count 9.5/3.0 (6.5)\n",
            "Epoch 126/200 | Loss 0.0526 | Win/lose count 4.5/1.0 (3.5)\n",
            "Epoch 127/200 | Loss 0.0019 | Win/lose count 5.0/2.0 (3.0)\n",
            "Epoch 128/200 | Loss 0.0040 | Win/lose count 7.0/5.0 (2.0)\n",
            "Epoch 129/200 | Loss 0.0037 | Win/lose count 8.5/3.0 (5.5)\n"
          ],
          "name": "stdout"
        },
        {
          "output_type": "stream",
          "text": [
            "Epoch 130/200 | Loss 0.0023 | Win/lose count 10.0/1.0 (9.0)\n",
            "Epoch 131/200 | Loss 0.0606 | Win/lose count 8.5/2.0 (6.5)\n",
            "Epoch 132/200 | Loss 0.0485 | Win/lose count 2.5/2.0 (0.5)\n",
            "Epoch 133/200 | Loss 0.0033 | Win/lose count 3.0/2.0 (1.0)\n",
            "Epoch 134/200 | Loss 0.0039 | Win/lose count 6.5/1.0 (5.5)\n",
            "Epoch 135/200 | Loss 0.0054 | Win/lose count 11.5/3.0 (8.5)\n",
            "Epoch 136/200 | Loss 0.0018 | Win/lose count 10.0/2.0 (8.0)\n",
            "Epoch 137/200 | Loss 0.0786 | Win/lose count 5.0/1.0 (4.0)\n",
            "Epoch 138/200 | Loss 0.0031 | Win/lose count 9.5/1.0 (8.5)\n",
            "Epoch 139/200 | Loss 0.0044 | Win/lose count 9.5/2.0 (7.5)\n",
            "Epoch 140/200 | Loss 0.0008 | Win/lose count 9.0/2.0 (7.0)\n",
            "Epoch 141/200 | Loss 0.0057 | Win/lose count 4.5/2.0 (2.5)\n",
            "Epoch 142/200 | Loss 0.0033 | Win/lose count 6.0/2.0 (4.0)\n",
            "Epoch 143/200 | Loss 0.0049 | Win/lose count 11.0/5.0 (6.0)\n",
            "Epoch 144/200 | Loss 0.0060 | Win/lose count 3.0/0 (3.0)\n",
            "Epoch 145/200 | Loss 0.0037 | Win/lose count 14.5/2.0 (12.5)\n",
            "Epoch 146/200 | Loss 0.0386 | Win/lose count 18.0/3.0 (15.0)\n",
            "Epoch 147/200 | Loss 0.0033 | Win/lose count 5.5/2.0 (3.5)\n",
            "Epoch 148/200 | Loss 0.0022 | Win/lose count 4.5/3.0 (1.5)\n",
            "Epoch 149/200 | Loss 0.0043 | Win/lose count 5.0/1.0 (4.0)\n",
            "Epoch 150/200 | Loss 0.0013 | Win/lose count 8.0/2.0 (6.0)\n",
            "Epoch 151/200 | Loss 0.0047 | Win/lose count 7.0/1.0 (6.0)\n",
            "Epoch 152/200 | Loss 0.0038 | Win/lose count 3.0/1.0 (2.0)\n",
            "Epoch 153/200 | Loss 0.0038 | Win/lose count 10.5/5.0 (5.5)\n",
            "Epoch 154/200 | Loss 0.0012 | Win/lose count 7.0/2.0 (5.0)\n",
            "Epoch 155/200 | Loss 0.0052 | Win/lose count 11.0/6.0 (5.0)\n",
            "Epoch 156/200 | Loss 0.0020 | Win/lose count 4.5/5.0 (-0.5)\n",
            "Epoch 157/200 | Loss 0.0122 | Win/lose count 15.5/5.0 (10.5)\n",
            "Epoch 158/200 | Loss 0.0087 | Win/lose count 13.0/3.0 (10.0)\n",
            "Epoch 159/200 | Loss 0.0018 | Win/lose count 12.5/1.0 (11.5)\n",
            "Epoch 160/200 | Loss 0.0024 | Win/lose count 5.0/3.0 (2.0)\n",
            "Epoch 161/200 | Loss 0.0516 | Win/lose count 11.5/1.0 (10.5)\n",
            "Epoch 162/200 | Loss 0.0605 | Win/lose count 9.5/3.0 (6.5)\n",
            "Epoch 163/200 | Loss 0.0030 | Win/lose count 4.5/3.0 (1.5)\n",
            "Epoch 164/200 | Loss 0.0651 | Win/lose count 9.0/4.0 (5.0)\n",
            "Epoch 165/200 | Loss 0.0027 | Win/lose count 3.0/2.0 (1.0)\n",
            "Epoch 166/200 | Loss 0.0567 | Win/lose count 7.0/5.0 (2.0)\n",
            "Epoch 167/200 | Loss 0.0050 | Win/lose count 6.5/2.0 (4.5)\n",
            "Epoch 168/200 | Loss 0.0647 | Win/lose count 7.0/4.0 (3.0)\n",
            "Epoch 169/200 | Loss 0.0036 | Win/lose count 8.5/4.0 (4.5)\n",
            "Epoch 170/200 | Loss 0.0058 | Win/lose count 7.5/4.0 (3.5)\n",
            "Epoch 171/200 | Loss 0.0045 | Win/lose count 4.0/2.0 (2.0)\n",
            "Epoch 172/200 | Loss 0.0512 | Win/lose count 7.5/2.0 (5.5)\n",
            "Epoch 173/200 | Loss 0.0543 | Win/lose count 9.0/2.0 (7.0)\n",
            "Epoch 174/200 | Loss 0.0024 | Win/lose count 2.5/0 (2.5)\n",
            "Epoch 175/200 | Loss 0.0048 | Win/lose count 9.5/3.0 (6.5)\n",
            "Epoch 176/200 | Loss 0.0066 | Win/lose count 8.5/2.0 (6.5)\n",
            "Epoch 177/200 | Loss 0.0033 | Win/lose count 10.5/3.0 (7.5)\n",
            "Epoch 178/200 | Loss 0.0047 | Win/lose count 4.5/1.0 (3.5)\n",
            "Epoch 179/200 | Loss 0.0025 | Win/lose count 5.0/4.0 (1.0)\n",
            "Epoch 180/200 | Loss 0.0028 | Win/lose count 10.0/3.0 (7.0)\n",
            "Epoch 181/200 | Loss 0.0030 | Win/lose count 8.0/0 (8.0)\n",
            "Epoch 182/200 | Loss 0.0027 | Win/lose count 7.5/4.0 (3.5)\n",
            "Epoch 183/200 | Loss 0.0025 | Win/lose count 17.5/3.0 (14.5)\n",
            "Epoch 184/200 | Loss 0.0388 | Win/lose count 4.0/4.0 (0.0)\n",
            "Epoch 185/200 | Loss 0.0021 | Win/lose count 10.0/2.0 (8.0)\n",
            "Epoch 186/200 | Loss 0.0023 | Win/lose count 3.5/3.0 (0.5)\n",
            "Epoch 187/200 | Loss 0.0025 | Win/lose count 4.5/3.0 (1.5)\n",
            "Epoch 188/200 | Loss 0.0033 | Win/lose count 7.0/4.0 (3.0)\n",
            "Epoch 189/200 | Loss 0.0027 | Win/lose count 11.5/1.0 (10.5)\n",
            "Epoch 190/200 | Loss 0.0722 | Win/lose count 5.5/1.0 (4.5)\n",
            "Epoch 191/200 | Loss 0.0008 | Win/lose count 10.0/6.0 (4.0)\n",
            "Epoch 192/200 | Loss 0.0034 | Win/lose count 9.0/5.0 (4.0)\n",
            "Epoch 193/200 | Loss 0.0022 | Win/lose count 7.0/1.0 (6.0)\n",
            "Epoch 194/200 | Loss 0.0015 | Win/lose count 3.5/1.0 (2.5)\n",
            "Epoch 195/200 | Loss 0.0021 | Win/lose count 6.5/4.0 (2.5)\n",
            "Epoch 196/200 | Loss 0.0040 | Win/lose count 4.0/0 (4.0)\n",
            "Epoch 197/200 | Loss 0.0012 | Win/lose count 8.0/2.0 (6.0)\n",
            "Epoch 198/200 | Loss 0.0027 | Win/lose count 4.5/0 (4.5)\n",
            "Epoch 199/200 | Loss 0.0051 | Win/lose count 9.5/1.0 (8.5)\n"
          ],
          "name": "stdout"
        },
        {
          "output_type": "execute_result",
          "data": {
            "text/html": [
              "<video alt=\"test\" controls>\n",
              "                <source src=\"data:video/mp4;base64,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\" type=\"video/mp4\" />\n",
              "             </video>"
            ],
            "text/plain": [
              "<IPython.core.display.HTML object>"
            ]
          },
          "metadata": {
            "tags": []
          },
          "execution_count": 12
        }
      ]
    },
    {
      "cell_type": "markdown",
      "metadata": {
        "id": "gH8dGfPG5Bgp",
        "colab_type": "text"
      },
      "source": [
        "***\n",
        "***\n",
        "__Question 8__ Implement the DQN training algorithm using a CNN (for example, 2 convolutional layers and one final fully connected layer)."
      ]
    },
    {
      "cell_type": "code",
      "metadata": {
        "id": "AmAKaBeT5Bgq",
        "colab_type": "code",
        "colab": {}
      },
      "source": [
        "class DQN_CNN(DQN):\n",
        "    def __init__(self, *args,lr=0.1,**kwargs):\n",
        "        super(DQN_CNN, self).__init__(*args,**kwargs)\n",
        "        \n",
        "        in_shape = (5, 5, self.n_state)\n",
        "        conv1_shape = 32\n",
        "        conv2_shape = 64\n",
        "        conv3_shape = 32\n",
        "        out_shape = self.n_action\n",
        "        \n",
        "        model = Sequential([\n",
        "            Conv2D(conv1_shape, 3, input_shape=in_shape, activation='relu', padding=\"same\"),\n",
        "            Conv2D(conv2_shape, 3, activation='relu', padding=\"same\"),\n",
        "            Conv2D(conv3_shape, 3, activation='relu', padding=\"same\"),\n",
        "            keras.layers.Flatten(),\n",
        "            Dense(out_shape)  \n",
        "        ])\n",
        "        \n",
        "        \n",
        "        model.compile(keras.optimizers.adam(lr=lr), \"mse\")\n",
        "        \n",
        "        self.model = model"
      ],
      "execution_count": 0,
      "outputs": []
    },
    {
      "cell_type": "code",
      "metadata": {
        "id": "LWz0Wt7v5Bgs",
        "colab_type": "code",
        "colab": {},
        "outputId": "bc0e0e9f-dcac-480a-d458-ead9b94b1c4a"
      },
      "source": [
        "env = Environment(grid_size=size, max_time=T, temperature=0.3)\n",
        "agent = DQN_CNN(size, lr=1e-4, epsilon = 0.1, memory_size=2000, batch_size = 32)\n",
        "train(agent,env,200,prefix='cnn_train')\n",
        "HTML(display_videos('cnn_train10.mp4'))"
      ],
      "execution_count": 0,
      "outputs": [
        {
          "output_type": "stream",
          "text": [
            "Epoch 000/200 | Loss 0.0078 | Win/lose count 3.0/4.0 (-1.0)\n",
            "Epoch 001/200 | Loss 0.0060 | Win/lose count 3.5/1.0 (2.5)\n",
            "Epoch 002/200 | Loss 0.0034 | Win/lose count 4.0/6.0 (-2.0)\n",
            "Epoch 003/200 | Loss 0.0019 | Win/lose count 2.5/3.0 (-0.5)\n",
            "Epoch 004/200 | Loss 0.0015 | Win/lose count 6.5/7.0 (-0.5)\n",
            "Epoch 005/200 | Loss 0.0704 | Win/lose count 7.5/3.0 (4.5)\n",
            "Epoch 006/200 | Loss 0.0017 | Win/lose count 7.5/0 (7.5)\n",
            "Epoch 007/200 | Loss 0.0018 | Win/lose count 3.5/3.0 (0.5)\n",
            "Epoch 008/200 | Loss 0.0023 | Win/lose count 9.5/4.0 (5.5)\n",
            "Epoch 009/200 | Loss 0.0021 | Win/lose count 2.5/1.0 (1.5)\n",
            "Epoch 010/200 | Loss 0.0502 | Win/lose count 3.5/3.0 (0.5)\n",
            "Epoch 011/200 | Loss 0.0012 | Win/lose count 10.5/1.0 (9.5)\n",
            "Epoch 012/200 | Loss 0.0014 | Win/lose count 2.5/2.0 (0.5)\n",
            "Epoch 013/200 | Loss 0.0029 | Win/lose count 9.0/3.0 (6.0)\n",
            "Epoch 014/200 | Loss 0.0018 | Win/lose count 5.0/3.0 (2.0)\n",
            "Epoch 015/200 | Loss 0.0036 | Win/lose count 6.5/4.0 (2.5)\n",
            "Epoch 016/200 | Loss 0.0062 | Win/lose count 10.0/4.0 (6.0)\n",
            "Epoch 017/200 | Loss 0.0022 | Win/lose count 14.5/5.0 (9.5)\n",
            "Epoch 018/200 | Loss 0.0018 | Win/lose count 9.5/1.0 (8.5)\n",
            "Epoch 019/200 | Loss 0.0046 | Win/lose count 9.0/6.0 (3.0)\n",
            "Epoch 020/200 | Loss 0.0006 | Win/lose count 14.0/6.0 (8.0)\n",
            "Epoch 021/200 | Loss 0.0044 | Win/lose count 11.5/4.0 (7.5)\n",
            "Epoch 022/200 | Loss 0.0025 | Win/lose count 4.0/5.0 (-1.0)\n",
            "Epoch 023/200 | Loss 0.0042 | Win/lose count 10.5/2.0 (8.5)\n",
            "Epoch 024/200 | Loss 0.0012 | Win/lose count 16.5/3.0 (13.5)\n",
            "Epoch 025/200 | Loss 0.0014 | Win/lose count 6.0/0 (6.0)\n",
            "Epoch 026/200 | Loss 0.0016 | Win/lose count 14.0/7.0 (7.0)\n",
            "Epoch 027/200 | Loss 0.0019 | Win/lose count 18.0/3.0 (15.0)\n",
            "Epoch 028/200 | Loss 0.0019 | Win/lose count 9.0/4.0 (5.0)\n",
            "Epoch 029/200 | Loss 0.0027 | Win/lose count 2.5/1.0 (1.5)\n",
            "Epoch 030/200 | Loss 0.0018 | Win/lose count 4.0/2.0 (2.0)\n",
            "Epoch 031/200 | Loss 0.0405 | Win/lose count 9.0/2.0 (7.0)\n",
            "Epoch 032/200 | Loss 0.0020 | Win/lose count 3.5/0 (3.5)\n",
            "Epoch 033/200 | Loss 0.0013 | Win/lose count 15.0/2.0 (13.0)\n",
            "Epoch 034/200 | Loss 0.0612 | Win/lose count 10.0/2.0 (8.0)\n",
            "Epoch 035/200 | Loss 0.0016 | Win/lose count 12.5/1.0 (11.5)\n",
            "Epoch 036/200 | Loss 0.0029 | Win/lose count 10.0/1.0 (9.0)\n",
            "Epoch 037/200 | Loss 0.0025 | Win/lose count 9.0/4.0 (5.0)\n",
            "Epoch 038/200 | Loss 0.0015 | Win/lose count 9.0/4.0 (5.0)\n",
            "Epoch 039/200 | Loss 0.0019 | Win/lose count 15.5/9.0 (6.5)\n",
            "Epoch 040/200 | Loss 0.0036 | Win/lose count 12.0/1.0 (11.0)\n",
            "Epoch 041/200 | Loss 0.0019 | Win/lose count 10.0/4.0 (6.0)\n",
            "Epoch 042/200 | Loss 0.0026 | Win/lose count 13.5/3.0 (10.5)\n",
            "Epoch 043/200 | Loss 0.0022 | Win/lose count 12.5/3.0 (9.5)\n",
            "Epoch 044/200 | Loss 0.0035 | Win/lose count 10.5/3.0 (7.5)\n",
            "Epoch 045/200 | Loss 0.0018 | Win/lose count 10.0/4.0 (6.0)\n",
            "Epoch 046/200 | Loss 0.0347 | Win/lose count 1.0/2.0 (-1.0)\n",
            "Epoch 047/200 | Loss 0.0033 | Win/lose count 10.5/5.0 (5.5)\n",
            "Epoch 048/200 | Loss 0.0010 | Win/lose count 7.0/3.0 (4.0)\n",
            "Epoch 049/200 | Loss 0.0012 | Win/lose count 15.0/2.0 (13.0)\n",
            "Epoch 050/200 | Loss 0.0037 | Win/lose count 17.0/3.0 (14.0)\n",
            "Epoch 051/200 | Loss 0.0012 | Win/lose count 18.0/3.0 (15.0)\n",
            "Epoch 052/200 | Loss 0.0228 | Win/lose count 14.5/0 (14.5)\n",
            "Epoch 053/200 | Loss 0.0640 | Win/lose count 10.0/4.0 (6.0)\n",
            "Epoch 054/200 | Loss 0.0653 | Win/lose count 14.0/4.0 (10.0)\n",
            "Epoch 055/200 | Loss 0.0050 | Win/lose count 15.0/6.0 (9.0)\n",
            "Epoch 056/200 | Loss 0.0020 | Win/lose count 17.5/3.0 (14.5)\n",
            "Epoch 057/200 | Loss 0.0018 | Win/lose count 9.5/4.0 (5.5)\n",
            "Epoch 058/200 | Loss 0.0008 | Win/lose count 8.5/3.0 (5.5)\n",
            "Epoch 059/200 | Loss 0.0021 | Win/lose count 9.5/1.0 (8.5)\n",
            "Epoch 060/200 | Loss 0.0022 | Win/lose count 13.5/4.0 (9.5)\n",
            "Epoch 061/200 | Loss 0.0013 | Win/lose count 5.0/1.0 (4.0)\n",
            "Epoch 062/200 | Loss 0.0028 | Win/lose count 19.0/3.0 (16.0)\n",
            "Epoch 063/200 | Loss 0.0017 | Win/lose count 7.5/2.0 (5.5)\n",
            "Epoch 064/200 | Loss 0.0020 | Win/lose count 12.5/2.0 (10.5)\n",
            "Epoch 065/200 | Loss 0.0018 | Win/lose count 8.0/4.0 (4.0)\n",
            "Epoch 066/200 | Loss 0.0032 | Win/lose count 5.0/0 (5.0)\n",
            "Epoch 067/200 | Loss 0.0004 | Win/lose count 16.5/7.0 (9.5)\n",
            "Epoch 068/200 | Loss 0.0220 | Win/lose count 17.5/7.0 (10.5)\n",
            "Epoch 069/200 | Loss 0.0015 | Win/lose count 15.5/4.0 (11.5)\n",
            "Epoch 070/200 | Loss 0.0013 | Win/lose count 3.5/1.0 (2.5)\n",
            "Epoch 071/200 | Loss 0.0019 | Win/lose count 6.5/3.0 (3.5)\n",
            "Epoch 072/200 | Loss 0.0024 | Win/lose count 16.5/2.0 (14.5)\n",
            "Epoch 073/200 | Loss 0.0020 | Win/lose count 4.0/2.0 (2.0)\n",
            "Epoch 074/200 | Loss 0.0023 | Win/lose count 6.0/0 (6.0)\n",
            "Epoch 075/200 | Loss 0.0009 | Win/lose count 7.5/1.0 (6.5)\n",
            "Epoch 076/200 | Loss 0.0041 | Win/lose count 12.0/4.0 (8.0)\n",
            "Epoch 077/200 | Loss 0.0015 | Win/lose count 11.5/3.0 (8.5)\n",
            "Epoch 078/200 | Loss 0.0011 | Win/lose count 15.5/5.0 (10.5)\n",
            "Epoch 079/200 | Loss 0.0278 | Win/lose count 17.0/1.0 (16.0)\n",
            "Epoch 080/200 | Loss 0.0017 | Win/lose count 9.5/3.0 (6.5)\n",
            "Epoch 081/200 | Loss 0.0248 | Win/lose count 10.0/4.0 (6.0)\n",
            "Epoch 082/200 | Loss 0.0023 | Win/lose count 7.5/3.0 (4.5)\n",
            "Epoch 083/200 | Loss 0.0015 | Win/lose count 18.0/1.0 (17.0)\n",
            "Epoch 084/200 | Loss 0.0297 | Win/lose count 3.5/2.0 (1.5)\n",
            "Epoch 085/200 | Loss 0.0008 | Win/lose count 6.5/1.0 (5.5)\n",
            "Epoch 086/200 | Loss 0.0005 | Win/lose count 5.5/2.0 (3.5)\n",
            "Epoch 087/200 | Loss 0.0064 | Win/lose count 13.0/3.0 (10.0)\n",
            "Epoch 088/200 | Loss 0.0011 | Win/lose count 3.5/2.0 (1.5)\n",
            "Epoch 089/200 | Loss 0.0005 | Win/lose count 8.5/0 (8.5)\n",
            "Epoch 090/200 | Loss 0.0015 | Win/lose count 7.5/3.0 (4.5)\n",
            "Epoch 091/200 | Loss 0.0011 | Win/lose count 14.5/3.0 (11.5)\n",
            "Epoch 092/200 | Loss 0.0009 | Win/lose count 18.0/3.0 (15.0)\n",
            "Epoch 093/200 | Loss 0.0011 | Win/lose count 15.0/1.0 (14.0)\n",
            "Epoch 094/200 | Loss 0.0013 | Win/lose count 3.5/0 (3.5)\n",
            "Epoch 095/200 | Loss 0.0018 | Win/lose count 12.5/0 (12.5)\n",
            "Epoch 096/200 | Loss 0.0008 | Win/lose count 4.5/3.0 (1.5)\n",
            "Epoch 097/200 | Loss 0.0018 | Win/lose count 5.0/3.0 (2.0)\n",
            "Epoch 098/200 | Loss 0.0005 | Win/lose count 15.0/1.0 (14.0)\n",
            "Epoch 099/200 | Loss 0.0024 | Win/lose count 15.0/3.0 (12.0)\n",
            "Epoch 100/200 | Loss 0.0010 | Win/lose count 9.5/1.0 (8.5)\n",
            "Epoch 101/200 | Loss 0.0009 | Win/lose count 13.5/2.0 (11.5)\n",
            "Epoch 102/200 | Loss 0.0015 | Win/lose count 1.0/0 (1.0)\n",
            "Epoch 103/200 | Loss 0.0026 | Win/lose count 17.5/5.0 (12.5)\n",
            "Epoch 104/200 | Loss 0.0010 | Win/lose count 7.5/2.0 (5.5)\n",
            "Epoch 105/200 | Loss 0.0024 | Win/lose count 7.0/2.0 (5.0)\n",
            "Epoch 106/200 | Loss 0.0021 | Win/lose count 2.0/2.0 (0.0)\n",
            "Epoch 107/200 | Loss 0.0021 | Win/lose count 12.0/0 (12.0)\n",
            "Epoch 108/200 | Loss 0.0024 | Win/lose count 3.5/4.0 (-0.5)\n",
            "Epoch 109/200 | Loss 0.0009 | Win/lose count 4.0/2.0 (2.0)\n",
            "Epoch 110/200 | Loss 0.0004 | Win/lose count 10.5/2.0 (8.5)\n",
            "Epoch 111/200 | Loss 0.0005 | Win/lose count 13.5/2.0 (11.5)\n",
            "Epoch 112/200 | Loss 0.0007 | Win/lose count 7.0/2.0 (5.0)\n",
            "Epoch 113/200 | Loss 0.0008 | Win/lose count 10.0/4.0 (6.0)\n",
            "Epoch 114/200 | Loss 0.0028 | Win/lose count 17.5/3.0 (14.5)\n",
            "Epoch 115/200 | Loss 0.0024 | Win/lose count 7.5/4.0 (3.5)\n",
            "Epoch 116/200 | Loss 0.0014 | Win/lose count 6.0/2.0 (4.0)\n",
            "Epoch 117/200 | Loss 0.0016 | Win/lose count 8.0/2.0 (6.0)\n",
            "Epoch 118/200 | Loss 0.0063 | Win/lose count 9.0/1.0 (8.0)\n",
            "Epoch 119/200 | Loss 0.0023 | Win/lose count 10.0/3.0 (7.0)\n",
            "Epoch 120/200 | Loss 0.0054 | Win/lose count 11.5/3.0 (8.5)\n",
            "Epoch 121/200 | Loss 0.0813 | Win/lose count 14.0/4.0 (10.0)\n",
            "Epoch 122/200 | Loss 0.0021 | Win/lose count 16.5/1.0 (15.5)\n",
            "Epoch 123/200 | Loss 0.0025 | Win/lose count 5.0/4.0 (1.0)\n",
            "Epoch 124/200 | Loss 0.0541 | Win/lose count 10.5/1.0 (9.5)\n",
            "Epoch 125/200 | Loss 0.0005 | Win/lose count 6.5/0 (6.5)\n",
            "Epoch 126/200 | Loss 0.0016 | Win/lose count 8.0/3.0 (5.0)\n",
            "Epoch 127/200 | Loss 0.0021 | Win/lose count 7.5/4.0 (3.5)\n",
            "Epoch 128/200 | Loss 0.0004 | Win/lose count 10.0/0 (10.0)\n",
            "Epoch 129/200 | Loss 0.0017 | Win/lose count 12.0/4.0 (8.0)\n",
            "Epoch 130/200 | Loss 0.0019 | Win/lose count 3.5/2.0 (1.5)\n",
            "Epoch 131/200 | Loss 0.0025 | Win/lose count 9.5/3.0 (6.5)\n",
            "Epoch 132/200 | Loss 0.0019 | Win/lose count 7.5/6.0 (1.5)\n",
            "Epoch 133/200 | Loss 0.0017 | Win/lose count 6.5/2.0 (4.5)\n",
            "Epoch 134/200 | Loss 0.0011 | Win/lose count 9.5/3.0 (6.5)\n",
            "Epoch 135/200 | Loss 0.0010 | Win/lose count 3.0/2.0 (1.0)\n",
            "Epoch 136/200 | Loss 0.0012 | Win/lose count 8.5/0 (8.5)\n",
            "Epoch 137/200 | Loss 0.0370 | Win/lose count 9.0/4.0 (5.0)\n"
          ],
          "name": "stdout"
        },
        {
          "output_type": "stream",
          "text": [
            "Epoch 138/200 | Loss 0.0008 | Win/lose count 10.0/4.0 (6.0)\n",
            "Epoch 139/200 | Loss 0.0004 | Win/lose count 12.5/5.0 (7.5)\n",
            "Epoch 140/200 | Loss 0.0017 | Win/lose count 8.0/3.0 (5.0)\n",
            "Epoch 141/200 | Loss 0.0009 | Win/lose count 7.0/3.0 (4.0)\n",
            "Epoch 142/200 | Loss 0.0339 | Win/lose count 9.0/2.0 (7.0)\n",
            "Epoch 143/200 | Loss 0.0012 | Win/lose count 10.5/5.0 (5.5)\n",
            "Epoch 144/200 | Loss 0.0014 | Win/lose count 15.0/0 (15.0)\n",
            "Epoch 145/200 | Loss 0.0017 | Win/lose count 8.5/4.0 (4.5)\n",
            "Epoch 146/200 | Loss 0.0753 | Win/lose count 10.0/1.0 (9.0)\n",
            "Epoch 147/200 | Loss 0.0024 | Win/lose count 8.0/2.0 (6.0)\n",
            "Epoch 148/200 | Loss 0.0095 | Win/lose count 4.5/1.0 (3.5)\n",
            "Epoch 149/200 | Loss 0.0032 | Win/lose count 14.0/2.0 (12.0)\n",
            "Epoch 150/200 | Loss 0.0697 | Win/lose count 10.0/3.0 (7.0)\n",
            "Epoch 151/200 | Loss 0.0010 | Win/lose count 6.0/2.0 (4.0)\n",
            "Epoch 152/200 | Loss 0.0022 | Win/lose count 7.0/3.0 (4.0)\n",
            "Epoch 153/200 | Loss 0.0023 | Win/lose count 6.5/0 (6.5)\n",
            "Epoch 154/200 | Loss 0.0014 | Win/lose count 0.5/1.0 (-0.5)\n",
            "Epoch 155/200 | Loss 0.0024 | Win/lose count 15.0/5.0 (10.0)\n",
            "Epoch 156/200 | Loss 0.0033 | Win/lose count 11.5/1.0 (10.5)\n",
            "Epoch 157/200 | Loss 0.0019 | Win/lose count 6.0/2.0 (4.0)\n",
            "Epoch 158/200 | Loss 0.0009 | Win/lose count 3.0/2.0 (1.0)\n",
            "Epoch 159/200 | Loss 0.0011 | Win/lose count 10.5/2.0 (8.5)\n",
            "Epoch 160/200 | Loss 0.0030 | Win/lose count 12.0/1.0 (11.0)\n",
            "Epoch 161/200 | Loss 0.0059 | Win/lose count 6.0/1.0 (5.0)\n",
            "Epoch 162/200 | Loss 0.0037 | Win/lose count 13.5/1.0 (12.5)\n",
            "Epoch 163/200 | Loss 0.0519 | Win/lose count 8.0/4.0 (4.0)\n",
            "Epoch 164/200 | Loss 0.0006 | Win/lose count 8.0/1.0 (7.0)\n",
            "Epoch 165/200 | Loss 0.0522 | Win/lose count 11.0/5.0 (6.0)\n",
            "Epoch 166/200 | Loss 0.0070 | Win/lose count 9.0/6.0 (3.0)\n",
            "Epoch 167/200 | Loss 0.0025 | Win/lose count 7.0/6.0 (1.0)\n",
            "Epoch 168/200 | Loss 0.0013 | Win/lose count 7.0/2.0 (5.0)\n",
            "Epoch 169/200 | Loss 0.0028 | Win/lose count 12.0/6.0 (6.0)\n",
            "Epoch 170/200 | Loss 0.0533 | Win/lose count 10.5/4.0 (6.5)\n",
            "Epoch 171/200 | Loss 0.0039 | Win/lose count 7.5/4.0 (3.5)\n",
            "Epoch 172/200 | Loss 0.0010 | Win/lose count 8.0/3.0 (5.0)\n",
            "Epoch 173/200 | Loss 0.0011 | Win/lose count 15.5/4.0 (11.5)\n",
            "Epoch 174/200 | Loss 0.0013 | Win/lose count 15.5/6.0 (9.5)\n",
            "Epoch 175/200 | Loss 0.0016 | Win/lose count 11.0/4.0 (7.0)\n",
            "Epoch 176/200 | Loss 0.0034 | Win/lose count 7.5/9.0 (-1.5)\n",
            "Epoch 177/200 | Loss 0.0270 | Win/lose count 7.5/1.0 (6.5)\n",
            "Epoch 178/200 | Loss 0.0248 | Win/lose count 14.0/4.0 (10.0)\n",
            "Epoch 179/200 | Loss 0.0009 | Win/lose count 7.5/1.0 (6.5)\n",
            "Epoch 180/200 | Loss 0.0008 | Win/lose count 7.0/3.0 (4.0)\n",
            "Epoch 181/200 | Loss 0.0121 | Win/lose count 2.5/1.0 (1.5)\n",
            "Epoch 182/200 | Loss 0.0085 | Win/lose count 17.0/6.0 (11.0)\n",
            "Epoch 183/200 | Loss 0.0013 | Win/lose count 8.0/3.0 (5.0)\n",
            "Epoch 184/200 | Loss 0.0010 | Win/lose count 12.5/0 (12.5)\n",
            "Epoch 185/200 | Loss 0.0012 | Win/lose count 7.0/3.0 (4.0)\n",
            "Epoch 186/200 | Loss 0.0009 | Win/lose count 5.0/2.0 (3.0)\n",
            "Epoch 187/200 | Loss 0.0018 | Win/lose count 4.5/5.0 (-0.5)\n",
            "Epoch 188/200 | Loss 0.0014 | Win/lose count 17.5/4.0 (13.5)\n",
            "Epoch 189/200 | Loss 0.0006 | Win/lose count 7.0/3.0 (4.0)\n",
            "Epoch 190/200 | Loss 0.0013 | Win/lose count 9.0/4.0 (5.0)\n",
            "Epoch 191/200 | Loss 0.0008 | Win/lose count 4.5/1.0 (3.5)\n",
            "Epoch 192/200 | Loss 0.0012 | Win/lose count 2.5/1.0 (1.5)\n",
            "Epoch 193/200 | Loss 0.0009 | Win/lose count 7.0/2.0 (5.0)\n",
            "Epoch 194/200 | Loss 0.0016 | Win/lose count 6.5/0 (6.5)\n",
            "Epoch 195/200 | Loss 0.0203 | Win/lose count 11.0/2.0 (9.0)\n",
            "Epoch 196/200 | Loss 0.0425 | Win/lose count 13.0/5.0 (8.0)\n",
            "Epoch 197/200 | Loss 0.0028 | Win/lose count 13.5/2.0 (11.5)\n",
            "Epoch 198/200 | Loss 0.0011 | Win/lose count 3.0/1.0 (2.0)\n",
            "Epoch 199/200 | Loss 0.0013 | Win/lose count 10.0/2.0 (8.0)\n"
          ],
          "name": "stdout"
        },
        {
          "output_type": "execute_result",
          "data": {
            "text/html": [
              "<video alt=\"test\" controls>\n",
              "                <source src=\"data:video/mp4;base64,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\" type=\"video/mp4\" />\n",
              "             </video>"
            ],
            "text/plain": [
              "<IPython.core.display.HTML object>"
            ]
          },
          "metadata": {
            "tags": []
          },
          "execution_count": 14
        }
      ]
    },
    {
      "cell_type": "markdown",
      "metadata": {
        "id": "RrHJk6nT5Bgv",
        "colab_type": "text"
      },
      "source": [
        "***\n",
        "***\n",
        "__Question 9__ Test both algorithms and compare their performances. Which issue(s) do you observe? Observe also different behaviors by changing the temperature."
      ]
    },
    {
      "cell_type": "code",
      "metadata": {
        "id": "quD_j7eI5Bgw",
        "colab_type": "code",
        "colab": {},
        "outputId": "4ab1430d-9b65-49ee-adf6-322d9b4ffa14"
      },
      "source": [
        "env = Environment(grid_size=size, max_time=T,temperature=0.3)\n",
        "agent_cnn = DQN_CNN(size, lr=1e-4, epsilon = 0.1, memory_size=2000, batch_size = 32)\n",
        "agent_cnn.load(name_weights='cnn_trainmodel.h5',name_model='cnn_trainmodel.json')\n",
        "\n",
        "agent_fc = DQN_FC(size, lr=1e-4, epsilon = 0.1, memory_size=2000, batch_size = 32)\n",
        "agent_cnn.load(name_weights='fc_trainmodel.h5',name_model='fc_trainmodel.json')\n",
        "print('Test of the CNN')\n",
        "test(agent_cnn,env,epochs_test,prefix='cnn_test')\n",
        "print('Test of the FC')\n",
        "test(agent_fc,env,epochs_test,prefix='fc_test')"
      ],
      "execution_count": 0,
      "outputs": [
        {
          "output_type": "stream",
          "text": [
            "Test of the CNN\n",
            "Win/lose count 1.0/0. Average score (1.0)\n",
            "Win/lose count 3.5/0. Average score (2.25)\n",
            "Win/lose count 3.5/0. Average score (2.6666666666666665)\n",
            "Win/lose count 3.0/0. Average score (2.75)\n",
            "Win/lose count 1.0/0. Average score (2.4)\n",
            "Win/lose count 1.0/0. Average score (2.1666666666666665)\n",
            "Win/lose count 1.5/0. Average score (2.0714285714285716)\n",
            "Win/lose count 7.0/0. Average score (2.6875)\n",
            "Win/lose count 2.5/0. Average score (2.6666666666666665)\n",
            "Win/lose count 1.5/0. Average score (2.55)\n",
            "Win/lose count 0/0. Average score (2.3181818181818183)\n",
            "Win/lose count 1.0/0. Average score (2.2083333333333335)\n",
            "Win/lose count 9.5/0. Average score (2.769230769230769)\n",
            "Win/lose count 3.0/1.0. Average score (2.7142857142857144)\n",
            "Win/lose count 4.0/0. Average score (2.8)\n",
            "Win/lose count 1.5/0. Average score (2.71875)\n",
            "Win/lose count 1.5/0. Average score (2.6470588235294117)\n",
            "Win/lose count 4.5/0. Average score (2.75)\n",
            "Win/lose count 2.0/0. Average score (2.710526315789474)\n",
            "Win/lose count 5.0/0. Average score (2.825)\n",
            "Final score: 2.825\n",
            "Test of the FC\n",
            "Win/lose count 3.0/3.0. Average score (0.0)\n",
            "Win/lose count 0.5/0. Average score (0.25)\n",
            "Win/lose count 2.5/3.0. Average score (0.0)\n",
            "Win/lose count 0.5/1.0. Average score (-0.125)\n",
            "Win/lose count 0/1.0. Average score (-0.3)\n",
            "Win/lose count 1.0/1.0. Average score (-0.25)\n",
            "Win/lose count 0.5/0. Average score (-0.14285714285714285)\n",
            "Win/lose count 0/1.0. Average score (-0.25)\n",
            "Win/lose count 3.0/2.0. Average score (-0.1111111111111111)\n",
            "Win/lose count 0/0. Average score (-0.1)\n",
            "Win/lose count 0.5/1.0. Average score (-0.13636363636363635)\n",
            "Win/lose count 1.0/0. Average score (-0.041666666666666664)\n",
            "Win/lose count 0/0. Average score (-0.038461538461538464)\n",
            "Win/lose count 0.5/4.0. Average score (-0.2857142857142857)\n",
            "Win/lose count 0.5/1.0. Average score (-0.3)\n",
            "Win/lose count 1.5/3.0. Average score (-0.375)\n",
            "Win/lose count 0.5/0. Average score (-0.3235294117647059)\n",
            "Win/lose count 3.0/2.0. Average score (-0.25)\n",
            "Win/lose count 0/0. Average score (-0.23684210526315788)\n",
            "Win/lose count 2.0/3.0. Average score (-0.275)\n",
            "Final score: -0.275\n"
          ],
          "name": "stdout"
        }
      ]
    },
    {
      "cell_type": "code",
      "metadata": {
        "id": "B7j9xGRo5Bg1",
        "colab_type": "code",
        "colab": {},
        "outputId": "e7c72f95-f093-44ae-fe54-8f9cd4060b03"
      },
      "source": [
        "HTML(display_videos('cnn_test10.mp4'))"
      ],
      "execution_count": 0,
      "outputs": [
        {
          "output_type": "execute_result",
          "data": {
            "text/html": [
              "<video alt=\"test\" controls>\n",
              "                <source src=\"data:video/mp4;base64,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\" type=\"video/mp4\" />\n",
              "             </video>"
            ],
            "text/plain": [
              "<IPython.core.display.HTML object>"
            ]
          },
          "metadata": {
            "tags": []
          },
          "execution_count": 16
        }
      ]
    },
    {
      "cell_type": "code",
      "metadata": {
        "id": "dedg3OWM5Bg4",
        "colab_type": "code",
        "colab": {},
        "outputId": "58cb9fdc-e02c-4aa3-b03c-b7e96d0f0b07"
      },
      "source": [
        "HTML(display_videos('fc_test10.mp4'))"
      ],
      "execution_count": 0,
      "outputs": [
        {
          "output_type": "execute_result",
          "data": {
            "text/html": [
              "<video alt=\"test\" controls>\n",
              "                <source src=\"data:video/mp4;base64,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\" type=\"video/mp4\" />\n",
              "             </video>"
            ],
            "text/plain": [
              "<IPython.core.display.HTML object>"
            ]
          },
          "metadata": {
            "tags": []
          },
          "execution_count": 17
        }
      ]
    },
    {
      "cell_type": "markdown",
      "metadata": {
        "id": "5KULmA--5Bg7",
        "colab_type": "text"
      },
      "source": [
        "__Answer 9__: \n",
        "\n",
        "Both algorithms are not performing well. The CNN gives slightly better results but the problem is that the exploration of the environement is not suficent, therefore the agent gets stuck in area that it has already visited. Increasing the temperature helps a little but it is far from enough."
      ]
    },
    {
      "cell_type": "markdown",
      "metadata": {
        "id": "EF2Jo1_E5Bg8",
        "colab_type": "text"
      },
      "source": [
        "***\n",
        "\n",
        "The algorithm tends to not explore the map which can be an issue. We propose two ideas in order to encourage exploration:\n",
        "1. Incorporating a decreasing $\\epsilon$-greedy exploration. You can use the method ```set_epsilon```\n",
        "2. Append via the environment a new state that describes if a cell has been visited or not\n",
        "\n",
        "***\n",
        "__Question 10__ Design a new ```train_explore``` function and environment class ```EnvironmentExploring``` to tackle the issue of exploration.\n",
        "\n"
      ]
    },
    {
      "cell_type": "code",
      "metadata": {
        "id": "lcemdUIF5Bg8",
        "colab_type": "code",
        "colab": {}
      },
      "source": [
        "def train_explore(agent,env,epoch,prefix=''):\n",
        "    # Total no. of games won\n",
        "    score = 0\n",
        "    loss = 0\n",
        "    \n",
        "    \n",
        "    for e in range(epoch):\n",
        "        # At each epoch, we restart to a fresh game and get the initial state\n",
        "        state = env.reset()\n",
        "        # This assumes that the games will terminate\n",
        "        game_over = False\n",
        "\n",
        "        win = 0\n",
        "        lose = 0\n",
        "        \n",
        "        while not game_over:\n",
        "            action = agent.act(state, train=True)\n",
        "            prev_state = state\n",
        "            state, reward, game_over = env.act(action,train=True)\n",
        "            \n",
        "            # Apply the reinforcement strategy\n",
        "            loss = agent.reinforce(prev_state, state, action, reward, game_over)\n",
        "            \n",
        "            \n",
        "            \n",
        "            # with the original rewards from \"normal\" environment\n",
        "            # Update the counters\n",
        "            original_reward = reward + env.penalty # recover original reward by substracting the last penalty\n",
        "            if original_reward > 0:\n",
        "                win = win + original_reward\n",
        "            else :\n",
        "                lose = lose - original_reward\n",
        "        \n",
        "        # Updating the epsilon of the agent (Decreasing ϵ -greedy exploration)\n",
        "        new_epsilon = 0.9*agent.epsilon\n",
        "        agent.set_epsilon(new_epsilon)\n",
        "        # Save as a mp4\n",
        "        if e % 10 == 0:\n",
        "            env.draw(prefix+str(e))\n",
        "\n",
        "        # Update stats\n",
        "        score += win-lose\n",
        "        \n",
        "        print(\"Epoch {:03d}/{:03d} | Loss {:.4f} | Win/lose count {}/{} ({})\"\n",
        "              .format(e, epoch, loss, win, lose, win-lose))\n",
        "        agent.save(name_weights=prefix+'model.h5',name_model=prefix+'model.json')\n",
        "        \n",
        "\n",
        "#We make the new class a subclass of Environment to inherit useful methods       \n",
        "class EnvironmentExploring(Environment):\n",
        "    \n",
        "    def __init__(self, grid_size=10, max_time=500, temperature=0.1):\n",
        "        super(EnvironmentExploring, self).__init__(grid_size=grid_size, max_time=max_time, temperature=temperature)\n",
        "        self.malus_position = np.zeros((self.grid_size, self.grid_size)) # penalties for already visited cells (to encourage exploration)\n",
        "        self.penalty = 0  # needed to keep track of the original reward for testing purposes\n",
        "        \n",
        "    def act(self, action, train=False):\n",
        "\n",
        "        # get reward and game_over from \"normal\" environment.\n",
        "        state, reward, game_over = super(EnvironmentExploring, self).act(action)\n",
        "    \n",
        "        if train:\n",
        "            # penalize the current state if already visited to force exploring new states\n",
        "            reward = reward - self.malus_position[self.x, self.y]\n",
        "        self.penalty = self.malus_position[self.x, self.y]  # needed to keep track of the original reward for testing purposes\n",
        "        self.malus_position[self.x, self.y] = 0.2\n",
        "        # 3 \"feature\" states instead of 2\n",
        "        state = np.concatenate((self.malus_position.reshape(self.grid_size, self.grid_size,1),\n",
        "                                self.board.reshape(self.grid_size, self.grid_size,1),\n",
        "                                self.position.reshape(self.grid_size, self.grid_size,1)),axis=2)\n",
        "        \n",
        "        state = state[self.x-2:self.x+3,self.y-2:self.y+3,:]\n",
        "        return state, reward, game_over\n",
        "        \n",
        "    def reset(self):\n",
        "        \n",
        "        state = super(EnvironmentExploring, self).reset()  # call parent reset method, drop unaugmented state\n",
        "    \n",
        "        self.malus_position = np.zeros((self.grid_size, self.grid_size))  # No penalties since we haven't visited any state yet.\n",
        "        self.penalty = 0\n",
        "        state = np.concatenate((self.malus_position.reshape(self.grid_size, self.grid_size,1),\n",
        "                                self.board.reshape(self.grid_size, self.grid_size,1),\n",
        "                                self.position.reshape(self.grid_size, self.grid_size,1)),axis=2)\n",
        "        state = state[self.x-2:self.x+3,self.y-2:self.y+3,:]\n",
        "        return state\n",
        "    \n",
        "\n"
      ],
      "execution_count": 0,
      "outputs": []
    },
    {
      "cell_type": "code",
      "metadata": {
        "id": "PIvmYdSv5BhA",
        "colab_type": "code",
        "colab": {},
        "outputId": "3f10acd6-f795-4ee8-d10e-bbdf49936a5f"
      },
      "source": [
        "# Training\n",
        "env = EnvironmentExploring(grid_size=size, max_time=T, temperature=0.3)\n",
        "agent = DQN_CNN(size, lr=1e-4, epsilon = 0.1, memory_size=2000, batch_size = 32,n_state=3)\n",
        "train_explore(agent, env, 50, prefix='cnn_train_explore')\n",
        "HTML(display_videos('cnn_train_explore10.mp4'))"
      ],
      "execution_count": 0,
      "outputs": [
        {
          "output_type": "stream",
          "text": [
            "Epoch 000/050 | Loss 0.0112 | Win/lose count 9.0/15.0 (-6.0)\n",
            "Epoch 001/050 | Loss 0.0093 | Win/lose count 10.5/7.0 (3.5)\n",
            "Epoch 002/050 | Loss 0.0204 | Win/lose count 10.0/7.0 (3.0)\n",
            "Epoch 003/050 | Loss 0.0089 | Win/lose count 18.0/5.0 (13.0)\n",
            "Epoch 004/050 | Loss 0.0329 | Win/lose count 19.5/4.0 (15.5)\n",
            "Epoch 005/050 | Loss 0.0123 | Win/lose count 8.5/3.0 (5.5)\n",
            "Epoch 006/050 | Loss 0.0196 | Win/lose count 20.5/0.0 (20.5)\n",
            "Epoch 007/050 | Loss 0.0111 | Win/lose count 17.0/3.0 (14.0)\n",
            "Epoch 008/050 | Loss 0.0080 | Win/lose count 22.5/2.0 (20.5)\n",
            "Epoch 009/050 | Loss 0.0550 | Win/lose count 25.5/3.0 (22.5)\n",
            "Epoch 010/050 | Loss 0.0067 | Win/lose count 17.5/4.0 (13.5)\n",
            "Epoch 011/050 | Loss 0.0088 | Win/lose count 20.5/3.0 (17.5)\n",
            "Epoch 012/050 | Loss 0.0072 | Win/lose count 19.5/1.0 (18.5)\n",
            "Epoch 013/050 | Loss 0.0055 | Win/lose count 20.0/2.0 (18.0)\n",
            "Epoch 014/050 | Loss 0.0043 | Win/lose count 23.0/3.0 (20.0)\n",
            "Epoch 015/050 | Loss 0.0059 | Win/lose count 15.5/2.0 (13.5)\n",
            "Epoch 016/050 | Loss 0.0060 | Win/lose count 12.0/2.0 (10.0)\n",
            "Epoch 017/050 | Loss 0.0091 | Win/lose count 17.5/3.0 (14.5)\n",
            "Epoch 018/050 | Loss 0.0066 | Win/lose count 12.5/2.0 (10.5)\n",
            "Epoch 019/050 | Loss 0.0045 | Win/lose count 23.5/1.0 (22.5)\n",
            "Epoch 020/050 | Loss 0.0075 | Win/lose count 19.5/5.0 (14.5)\n",
            "Epoch 021/050 | Loss 0.0053 | Win/lose count 3.5/0.0 (3.5)\n",
            "Epoch 022/050 | Loss 0.0053 | Win/lose count 7.5/0.0 (7.5)\n",
            "Epoch 023/050 | Loss 0.0170 | Win/lose count 17.0/2.0 (15.0)\n",
            "Epoch 024/050 | Loss 0.0069 | Win/lose count 15.0/1.0 (14.0)\n",
            "Epoch 025/050 | Loss 0.0084 | Win/lose count 22.0/4.0 (18.0)\n",
            "Epoch 026/050 | Loss 0.0112 | Win/lose count 19.0/5.0 (14.0)\n",
            "Epoch 027/050 | Loss 0.0120 | Win/lose count 17.0/1.0 (16.0)\n",
            "Epoch 028/050 | Loss 0.0073 | Win/lose count 15.5/4.0 (11.5)\n",
            "Epoch 029/050 | Loss 0.0130 | Win/lose count 26.0/2.0 (24.0)\n",
            "Epoch 030/050 | Loss 0.0098 | Win/lose count 18.5/2.0 (16.5)\n",
            "Epoch 031/050 | Loss 0.0075 | Win/lose count 20.0/4.0 (16.0)\n",
            "Epoch 032/050 | Loss 0.0240 | Win/lose count 15.0/1.0 (14.0)\n",
            "Epoch 033/050 | Loss 0.0074 | Win/lose count 20.0/3.0 (17.0)\n",
            "Epoch 034/050 | Loss 0.0047 | Win/lose count 14.0/1.0 (13.0)\n",
            "Epoch 035/050 | Loss 0.0123 | Win/lose count 11.0/3.0 (8.0)\n",
            "Epoch 036/050 | Loss 0.0414 | Win/lose count 19.5/3.0 (16.5)\n",
            "Epoch 037/050 | Loss 0.0044 | Win/lose count 19.0/1.0 (18.0)\n",
            "Epoch 038/050 | Loss 0.0065 | Win/lose count 12.0/2.0 (10.0)\n",
            "Epoch 039/050 | Loss 0.0092 | Win/lose count 21.0/1.0 (20.0)\n",
            "Epoch 040/050 | Loss 0.0060 | Win/lose count 13.5/0.0 (13.5)\n",
            "Epoch 041/050 | Loss 0.0042 | Win/lose count 20.0/4.0 (16.0)\n",
            "Epoch 042/050 | Loss 0.0034 | Win/lose count 12.0/1.0 (11.0)\n",
            "Epoch 043/050 | Loss 0.0116 | Win/lose count 12.5/1.0 (11.5)\n",
            "Epoch 044/050 | Loss 0.0061 | Win/lose count 4.0/0.0 (4.0)\n",
            "Epoch 045/050 | Loss 0.0046 | Win/lose count 10.5/2.0 (8.5)\n",
            "Epoch 046/050 | Loss 0.0102 | Win/lose count 21.5/6.0 (15.5)\n",
            "Epoch 047/050 | Loss 0.0223 | Win/lose count 22.0/2.0 (20.0)\n",
            "Epoch 048/050 | Loss 0.0068 | Win/lose count 7.0/0.0 (7.0)\n",
            "Epoch 049/050 | Loss 0.0120 | Win/lose count 10.0/2.0 (8.0)\n"
          ],
          "name": "stdout"
        },
        {
          "output_type": "execute_result",
          "data": {
            "text/html": [
              "<video alt=\"test\" controls>\n",
              "                <source src=\"data:video/mp4;base64,AAAAIGZ0eXBpc29tAAACAGlzb21pc28yYXZjMW1wNDEAAAAIZnJlZQAAF45tZGF0AAACrQYF//+p3EXpvebZSLeWLNgg2SPu73gyNjQgLSBjb3JlIDE1MiByMjg1NCBlOWE1OTAzIC0gSC4yNjQvTVBFRy00IEFWQyBjb2RlYyAtIENvcHlsZWZ0IDIwMDMtMjAxNyAtIGh0dHA6Ly93d3cudmlkZW9sYW4ub3JnL3gyNjQuaHRtbCAtIG9wdGlvbnM6IGNhYmFjPTEgcmVmPTMgZGVibG9jaz0xOjA6MCBhbmFseXNlPTB4MToweDExMSBtZT1oZXggc3VibWU9NyBwc3k9MSBwc3lfcmQ9MS4wMDowLjAwIG1peGVkX3JlZj0xIG1lX3JhbmdlPTE2IGNocm9tYV9tZT0xIHRyZWxsaXM9MSA4eDhkY3Q9MCBjcW09MCBkZWFkem9uZT0yMSwxMSBmYXN0X3Bza2lwPTEgY2hyb21hX3FwX29mZnNldD00IHRocmVhZHM9NiBsb29rYWhlYWRfdGhyZWFkcz0xIHNsaWNlZF90aHJlYWRzPTAgbnI9MCBkZWNpbWF0ZT0xIGludGVybGFjZWQ9MCBibHVyYXlfY29tcGF0PTAgY29uc3RyYWluZWRfaW50cmE9MCBiZnJhbWVzPTMgYl9weXJhbWlkPTIgYl9hZGFwdD0xIGJfYmlhcz0wIGRpcmVjdD0xIHdlaWdodGI9MSBvcGVuX2dvcD0wIHdlaWdodHA9MiBrZXlpbnQ9MjUwIGtleWludF9taW49MjUgc2NlbmVjdXQ9NDAgaW50cmFfcmVmcmVzaD0wIHJjX2xvb2thaGVhZD00MCByYz1jcmYgbWJ0cmVlPTEgY3JmPTIzLjAgcWNvbXA9MC42MCBxcG1pbj0wIHFwbWF4PTY5IHFwc3RlcD00IGlwX3JhdGlvPTEuNDAgYXE9MToxLjAwAIAAAALIZYiEADP//vaG+BTYUyP+T7/8I/+5H7cfWfrixkIJvrVeQ9GAMl8a/5lGYaXpyc8t7R+vTNAEZz6HlLJIofgUkwDfMsjnE4qnNEDmR5JCVX04EsPBVeyebSzqqqTMhGvoNqPvruni9J0kj+NUF4dWMBuolPHpAih+p5/JOKl9kHcmJrQUfgivSORX+TLJeRaajm2FA3/Wj2acZWZPrtza/I+JwphqLZeZNoDk3NIoqXTPkRqlWENqjIV1MVWd6sIsCCdexKBZs7OaxiYjUZl+YD/3hSUVSiB5LDwFikPpSNy4+7oshSEF74poiZ7+ZYT3ulCbvjZxuy0gXxMFlzbafhdSsr1sOlPTxgg+6sE2r98HHk3kUUmoHlrGHTIb4YYUjPdsFxPuQrwmtdT/rli8JbJD7fCDrqg5cFalED4bV6CiEaXXyTNOyApxlTUI/e+UhwD0KnRDFeX/9AABL05KUAmFiyK7G8zUfcSSDefBOihz/lTrggd++nqZ5s+X4Cty5bcuJWNoz5gC7R+PF96gob7EoyevSoAb3fcY9V5PJZ+MAhonlJ5N05VtU6h5ojY/MeDLGJlrtUDk9n485DJWcyhewub6hQeTpGm1H9mB1O8jYRjt4vEGYDRjtxixKNp4xd0AUqFvM+8EkYO7le/8IlrJtZnf5bsHZkrwJxUChKlZA9F1Bzo160M7IBOGo8+0EbYbDndXf9Brme8FVsg5Ao9Q608U2AMAnPHkeJd1gGalR7uQgbmyLSaWzj2En29SGLo76IV5BRf8KAvDBogeRNaEvBc4fL7uZFhaOVR6pcW+x/KKlUi0Jvzi2ab8GRtHDPEEEKpuk97L2gSSMDxVk28inANExxUnrjukEOEgKniRjrO9Zje1CgoM3qTnBRXjW8TIsUeCrXzKvtuLpZWGpPlL40bFGH86Q7coBMhRlyc3dIHIvAA0YQAAABNBmiFsQz/+nhAAhrpbBZOMCps+AAAAF0GaQjwhkymEN//+p4QAFs91OP8Pq26TAAAAGUGaY0nhDyZTAhv//qeEABY/dT9RxoSHS8AAAAAeQZqFSeEPJlMFETw3//6nhAAON7B/lrpBq2YoSKH3AAAAEAGepGpCvwALo26KrOPwMrEAAAAZQZqmSeEPJlMCHf/+qZYABIfo59+yDcVf4QAAABtBmspJ4Q8mUwIb//6nhAAGHdbGBCJ/JpeAkBkAAAAQQZ7oRRE8L/8AA5/2eHLbYAAAAA8Bnwd0Qr8ABPssGDZjiu0AAAAPAZ8JakK/AAUelG9VgDfhAAAAGkGbDUmoQWiZTAhv//6nhAAGJ99mP8Pq3FuAAAAAEUGfK0URLCv/AAUelG80LCEhAAAADgGfTGpCvwAFHbGMm5XDAAAAHUGbT0moQWyZTBRMN//+p4QABf/YP85Trwo1uZg5AAAAEAGfbmpCvwAE1k+c60MMM0EAAAAcQZtxSeEKUmUwUsM//p4QABYa91xHP6R19/T1oAAAABABn5BqQr8ABJdohNxn17GoAAAAGUGbkknhDomUwIb//qeEAAiqALNts+z58cEAAAAdQZu1SeEPJlMCGf/+nhAANLIY5/DnxAUz5qz6o3gAAAARQZ/TRRE8K/8ACxWO/6OSK68AAAAQAZ/0akK/AAsVhHkwPXxJgQAAABhBm/ZJqEFomUwIZ//+nhAAUbgxz9L+5l0AAAAXQZoXSeEKUmUwIZ/+nhAAfApxz9L+5bcAAAAaQZo4SeEOiZTAhn/+nhAAw8hjn8OfEDh/hRcAAAAZQZpZSeEPJlMCG//+p4QATVAFm2IA0hqnwAAAABtBmnpJ4Q8mUwIb//6nhAB2jjP9VvqoMf+Ib0EAAAAYQZqbSeEPJlMCHf/+qZYAPQOn4oVpyGkgAAAAIUGav0nhDyZTAhv//qeEASX4c+ZZYmR3EcM9YaQdG2+JtwAAABZBnt1FETwv/wCxUCKv50zi7PJkIqo9AAAADwGe/HRCvwCfZk7g2S8Z6wAAABABnv5qQr8A7TPmN0OSDig4AAAAEkGa40moQWiZTAhv//6nhAABJwAAABNBnwFFESwv/wEWj50ziup7Ex18AAAADwGfIHRCvwF/ks3Bsl4xoQAAABABnyJqQr8BfyO3OtDC8N3AAAAAGUGbJEmoQWyZTAhv//6nhAEl+OmP8Pq22VUAAAAeQZtISeEKUmUwIZ/+nhAHx7UZ1uuI5+8utupuedBxAAAAEUGfZkU0TC//AQaetUMgtknBAAAAEAGfhXRCvwFs6Ac7Y40z5eEAAAAPAZ+HakK/AWPlYF1/fsnAAAAAGUGbiUmoQWiZTAhn//6eEAdvv7+Jpx9XYf4AAAAbQZuqSeEKUmUwIb/+p4QBFfkcAmv8JwW6EikhAAAAGEGby0nhDomUwIb//qeEALX7qcf4fVttEwAAABlBm+xJ4Q8mUwId//6plgBZvkl9+yDcU/vQAAAAG0GaEEnhDyZTAhv//qeEAHG9g/m0glsgy2rfyQAAABRBni5FETwv/wBDZ6y7EDQ+YjMd1wAAABABnk10Qr8AXRNaMkt/re9BAAAAEAGeT2pCvwBa1GiZE0rN20AAAAAeQZpUSahBaJlMCGf//p4QAn3zm/Gm4HkQd0lWuDB3AAAAFUGeckURLC//AGH9ce3txM8vFqZ/tQAAABABnpF0Qr8AgvqJE+LMUbiwAAAADwGek2pCvwCCyt0o0h4mVgAAABpBmpVJqEFsmUwIb//+p4QAZ32D/CcFuhJvQQAAABhBmrZJ4QpSZTAhv/6nhABBvjpj/D6tt3kAAAAYQZrZSeEOiZTAhn/+nhAA+Xv7u05u4t17AAAAD0Ge90URPCv/ADTEaBsNwQAAAA0BnxhqQr8ANNYkW9huAAAAHEGbGkmoQWiZTAhn//6eEAF9kMc/hz4gKZ+s58EAAAAZQZs7SeEKUmUwIb/+p4QAlqALNsQBpDTqQAAAABlBm1xJ4Q6JlMCG//6nhADmnGf6kdGkNMPBAAAAH0GbfknhDyZTBRE8O//+qZYAwqjogWZ/ijnn23irdUEAAAAPAZ+dakK/AS7Z5bhs2pkDAAAAEkGbgknhDyZTAh3//qmWAACVgAAAABBBn6BFETwv/wDcxLZv0e33AAAAEAGf33RCvwEudWjJLf62h4AAAAAPAZ/BakK/AS7Z5bhs2pkDAAAAHEGbxkmoQWiZTAhv//6nhAGC8dPtXrwPBuisEXAAAAAQQZ/kRREsL/8A3KrxvYIoeQAAAA8BngN0Qr8B0mlYwhVp00EAAAAQAZ4FakK/AS6WQw+gJBxNSQAAACFBmgpJqEFsmUwIZ//+nhAGh7pvq0N0HMss+fb24OZWr/EAAAAVQZ4oRRUsL/8A7Saib9cbLl8pWQtmAAAAEAGeR3RCvwE/y1QOnahp3oAAAAAQAZ5JakK/AUilG80xVtHEwQAAABlBmktJqEFsmUwIZ//+nhAD4evv5EiPrCGzAAAAGEGabEnhClJlMCGf/p4QAo/um+ipWa9+pgAAABhBmo1J4Q6JlMCGf/6eEAGn9ffyJEfWEf8AAAAYQZquSeEPJlMCGf/+nhABDviH9shj6wmVAAAAGUGaz0nhDyZTAhv//qeEAC2e6n6jjQkOScEAAAAZQZrwSeEPJlMCG//+p4QAHR9g/wnBboTiwAAAABlBmxFJ4Q8mUwId//6plgAJj8efv2QbipvgAAAAH0GbNUnhDyZTAhv//qeEABJUvazJ37B/Vg8pF9ci79cAAAAWQZ9TRRE8L/8ACxUCKdmMUAj9cjOnwAAAAA8Bn3J0Qr8ACfJyhSbZK9MAAAAQAZ90akK/AA7bPAuv7cQjwQAAABlBm3hJqEFomUwIb//+p4QAEm+OmP8Pq27VAAAAD0GflkURLCv/AA7YK4bzwQAAABABn7dqQr8AFrja7rIYcqhBAAAAIEGbvEmoQWyZTAhn//6eEABp/X39SNAGhfZi3LrZq/nAAAAAFUGf2kUVLC//AA/h9/osV28tJoDCMQAAABABn/l0Qr8AFizRInxZikZwAAAAEAGf+2pCvwAWJtyKvAFAU4EAAAAaQZv9SahBbJlMCG///qeEAAtnup+o40JDycEAAAAZQZoeSeEKUmUwIb/+p4QAB0fYP8JwW6GBwAAAABlBmj9J4Q6JlMCHf/6plgACcFHOtD1ffMPAAAAAG0GaQ0nhDyZTAhv//qeEAAdz2D/NXQVsxQjt9QAAABBBnmFFETwv/wAEdoCDlve4AAAAEAGegHRCvwAGIsq7q/HePEEAAAAQAZ6CakK/AAPYob2K0fdmQAAAABpBmoRJqEFomUwId//+qZYAAnPx50s6Op6DwQAAABJBmqhJ4QpSZTAh3/6plgAAlYEAAAAMQZ7GRTRML/8AALKBAAAAEAGe5XRCvwADwqG7p2XaEIEAAAAPAZ7nakK/AAPCobsM9WjpAAAAE0Ga7EmoQWiZTAh3//6plgAAlYAAAAAMQZ8KRREsL/8AALKBAAAAEAGfKXRCvwADwqG7p2XaEIAAAAAPAZ8rakK/AAPCobsM9WjpAAAAE0GbMEmoQWyZTAh3//6plgAAlYEAAAAMQZ9ORRUsL/8AALKBAAAAEAGfbXRCvwADwqG7p2XaEIEAAAAPAZ9vakK/AAPCobsM9WjpAAAAE0GbdEmoQWyZTAh3//6plgAAlYAAAAAMQZ+SRRUsL/8AALKBAAAAEAGfsXRCvwADwqG7p2XaEIAAAAAPAZ+zakK/AAPCobsM9WjpAAAAE0GbuEmoQWyZTAh3//6plgAAlYEAAAAMQZ/WRRUsL/8AALKAAAAAEAGf9XRCvwADwqG7p2XaEIEAAAAPAZ/3akK/AAPCobsM9WjpAAAAF0Gb/EmoQWyZTAh3//6plgABjPhR93YgAAAADkGeGkUVLC//AAHP/fShAAAAEAGeOXRCvwADwqG9l1X8X8AAAAAPAZ47akK/AAPCobsM9WjpAAAAE0GaIEmoQWyZTAh3//6plgAAlYEAAAAMQZ5eRRUsL/8AALKAAAAAEAGefXRCvwADwqG7p2XaEIAAAAAPAZ5/akK/AAPCobsM9WjpAAAAE0GaZEmoQWyZTAh3//6plgAAlYAAAAAMQZ6CRRUsL/8AALKBAAAAEAGeoXRCvwADwqG7p2XaEIAAAAAPAZ6jakK/AAPCobsM9WjpAAAAE0GaqEmoQWyZTAh3//6plgAAlYEAAAAMQZ7GRRUsL/8AALKBAAAAEAGe5XRCvwADwqG7p2XaEIEAAAAPAZ7nakK/AAPCobsM9WjpAAAAE0Ga7EmoQWyZTAh3//6plgAAlYAAAAAMQZ8KRRUsL/8AALKBAAAAEAGfKXRCvwADwqG7p2XaEIAAAAAPAZ8rakK/AAPCobsM9WjpAAAAE0GbMEmoQWyZTAh3//6plgAAlYEAAAAMQZ9ORRUsL/8AALKBAAAAEAGfbXRCvwADwqG7p2XaEIEAAAAPAZ9vakK/AAPCobsM9WjpAAAAE0GbdEmoQWyZTAh3//6plgAAlYAAAAAMQZ+SRRUsL/8AALKBAAAAEAGfsXRCvwADwqG7p2XaEIAAAAAPAZ+zakK/AAPCobsM9WjpAAAAE0GbuEmoQWyZTAh3//6plgAAlYEAAAAMQZ/WRRUsL/8AALKAAAAAEAGf9XRCvwADwqG9l1X8X8EAAAAPAZ/3akK/AAPCobsM9WjpAAAAE0Gb/EmoQWyZTAh3//6plgAAlYAAAAAMQZ4aRRUsL/8AALKBAAAAEAGeOXRCvwADwqG7p2XaEIAAAAAPAZ47akK/AAPCobsM9WjpAAAAE0GaIEmoQWyZTAh3//6plgAAlYEAAAAMQZ5eRRUsL/8AALKAAAAAEAGefXRCvwADwqG7p2XaEIAAAAAPAZ5/akK/AAPCobsM9WjpAAAAE0GaZEmoQWyZTAh3//6plgAAlYAAAAAMQZ6CRRUsL/8AALKBAAAAEAGeoXRCvwADwqG7p2XaEIAAAAAPAZ6jakK/AAPCobsM9WjpAAAAE0GaqEmoQWyZTAh3//6plgAAlYEAAAAMQZ7GRRUsL/8AALKBAAAAEAGe5XRCvwADwqG7p2XaEIEAAAAPAZ7nakK/AAPCobsM9WjpAAAAE0Ga7EmoQWyZTAh3//6plgAAlYAAAAAMQZ8KRRUsL/8AALKBAAAAEAGfKXRCvwADwqG7p2XaEIAAAAAPAZ8rakK/AAPCobsM9WjpAAAAE0GbMEmoQWyZTAh3//6plgAAlYEAAAAMQZ9ORRUsL/8AALKBAAAAEAGfbXRCvwADwqG7p2XaEIEAAAAPAZ9vakK/AAPCobsM9WjpAAAAEkGbdEmoQWyZTAhv//6nhAABJwAAAAxBn5JFFSwv/wAAsoEAAAAQAZ+xdEK/AAPCobunZdoQgAAAAA8Bn7NqQr8AA8Khuwz1aOkAAAASQZu4SahBbJlMCG///qeEAAEnAAAADEGf1kUVLC//AACygAAAABABn/V0Qr8AA8Khu6dl2hCBAAAADwGf92pCvwADwqG7DPVo6QAAACBBm/pJqEFsmUwUTDP//p4QABNvi3bcyyz59vu1scO34AAAABABnhlqQr8AA/jMHkuZ8tWBAAAAGEGaG0nhClJlMCGf/p4QAB2inHP4c5vsawAAABlBmjxJ4Q6JlMCG//6nhAAL7SJ/qt8x+MXBAAAAGUGaXUnhDyZTAhv//qeEABJUAWbbZ9nzjcEAAAAZQZp+SeEPJlMCHf/+qZYADjpkJNw4KPm5UAAAABFBmoJJ4Q8mUwIb//6nhAABJwAAAAxBnqBFETwv/wAAsoEAAAAQAZ7fdEK/ACPCAOf1oHJ8wAAAABABnsFqQr8AFwso72ePt++BAAAAEkGaxkmoQWiZTAhn//6eEAAEfAAAAAxBnuRFESwv/wAAsoEAAAAQAZ8DdEK/ABcLKO/AB9v3wQAAABABnwVqQr8AFwso72ePt++BAAAAGkGbCUuoQhBbJEYIKAfyAf2HgCFf/jhAABFxAAAAJ0GfJ0UVLCv/Aq9j7UHE3arDSSblqoYHLLW7zSwE2GFRSszgq0IXZwAAACMBn0hqQr8Cr2PtQcTdqsNJJuWqhgcstbvNLAZmrfn8XJBDwAAAC5htb292AAAAbG12aGQAAAAAAAAAAAAAAAAAAAPoAAAfkAABAAABAAAAAAAAAAAAAAAAAQAAAAAAAAAAAAAAAAAAAAEAAAAAAAAAAAAAAAAAAEAAAAAAAAAAAAAAAAAAAAAAAAAAAAAAAAAAAAAAAAACAAAKwnRyYWsAAABcdGtoZAAAAAMAAAAAAAAAAAAAAAEAAAAAAAAfkAAAAAAAAAAAAAAAAAAAAAAAAQAAAAAAAAAAAAAAAAAAAAEAAAAAAAAAAAAAAAAAAEAAAAABEAAAARAAAAAAACRlZHRzAAAAHGVsc3QAAAAAAAAAAQAAH5AAAAQAAAEAAAAACjptZGlhAAAAIG1kaGQAAAAAAAAAAAAAAAAAADIAAAGUAFXEAAAAAAAtaGRscgAAAAAAAAAAdmlkZQAAAAAAAAAAAAAAAFZpZGVvSGFuZGxlcgAAAAnlbWluZgAAABR2bWhkAAAAAQAAAAAAAAAAAAAAJGRpbmYAAAAcZHJlZgAAAAAAAAABAAAADHVybCAAAAABAAAJpXN0YmwAAACVc3RzZAAAAAAAAAABAAAAhWF2YzEAAAAAAAAAAQAAAAAAAAAAAAAAAAAAAAABEAEQAEgAAABIAAAAAAAAAAEAAAAAAAAAAAAAAAAAAAAAAAAAAAAAAAAAAAAAAAAAAAAY//8AAAAvYXZjQwH0AA3/4QAXZ/QADZGbKCIR0IAAAAMAgAAAGQeKFMsBAAVo6+PESAAAABhzdHRzAAAAAAAAAAEAAADKAAACAAAAABRzdHNzAAAAAAAAAAEAAAABAAAFcGN0dHMAAAAAAAAArAAAAAQAAAQAAAAAAQAABgAAAAABAAACAAAAAAEAAAQAAAAAAQAACgAAAAABAAAEAAAAAAEAAAAAAAAAAQAAAgAAAAABAAAIAAAAAAIAAAIAAAAAAQAABgAAAAABAAACAAAAAAEAAAYAAAAAAQAAAgAAAAABAAAEAAAAAAEAAAgAAAAAAgAAAgAAAAAGAAAEAAAAAAEAAAoAAAAAAQAABAAAAAABAAAAAAAAAAEAAAIAAAAAAQAACgAAAAABAAAEAAAAAAEAAAAAAAAAAQAAAgAAAAABAAAEAAAAAAEAAAoAAAAAAQAABAAAAAABAAAAAAAAAAEAAAIAAAAABAAABAAAAAABAAAKAAAAAAEAAAQAAAAAAQAAAAAAAAABAAACAAAAAAEAAAoAAAAAAQAABAAAAAABAAAAAAAAAAEAAAIAAAAAAgAABAAAAAABAAAIAAAAAAIAAAIAAAAAAwAABAAAAAABAAAGAAAAAAEAAAIAAAAAAQAACgAAAAABAAAEAAAAAAEAAAAAAAAAAQAAAgAAAAABAAAKAAAAAAEAAAQAAAAAAQAAAAAAAAABAAACAAAAAAEAAAoAAAAAAQAABAAAAAABAAAAAAAAAAEAAAIAAAAABwAABAAAAAABAAAKAAAAAAEAAAQAAAAAAQAAAAAAAAABAAACAAAAAAEAAAgAAAAAAgAAAgAAAAABAAAKAAAAAAEAAAQAAAAAAQAAAAAAAAABAAACAAAAAAMAAAQAAAAAAQAACgAAAAABAAAEAAAAAAEAAAAAAAAAAQAAAgAAAAABAAAEAAAAAAEAAAoAAAAAAQAABAAAAAABAAAAAAAAAAEAAAIAAAAAAQAACgAAAAABAAAEAAAAAAEAAAAAAAAAAQAAAgAAAAABAAAKAAAAAAEAAAQAAAAAAQAAAAAAAAABAAACAAAAAAEAAAoAAAAAAQAABAAAAAABAAAAAAAAAAEAAAIAAAAAAQAACgAAAAABAAAEAAAAAAEAAAAAAAAAAQAAAgAAAAABAAAKAAAAAAEAAAQAAAAAAQAAAAAAAAABAAACAAAAAAEAAAoAAAAAAQAABAAAAAABAAAAAAAAAAEAAAIAAAAAAQAACgAAAAABAAAEAAAAAAEAAAAAAAAAAQAAAgAAAAABAAAKAAAAAAEAAAQAAAAAAQAAAAAAAAABAAACAAAAAAEAAAoAAAAAAQAABAAAAAABAAAAAAAAAAEAAAIAAAAAAQAACgAAAAABAAAEAAAAAAEAAAAAAAAAAQAAAgAAAAABAAAKAAAAAAEAAAQAAAAAAQAAAAAAAAABAAACAAAAAAEAAAoAAAAAAQAABAAAAAABAAAAAAAAAAEAAAIAAAAAAQAACgAAAAABAAAEAAAAAAEAAAAAAAAAAQAAAgAAAAABAAAKAAAAAAEAAAQAAAAAAQAAAAAAAAABAAACAAAAAAEAAAoAAAAAAQAABAAAAAABAAAAAAAAAAEAAAIAAAAAAQAACgAAAAABAAAEAAAAAAEAAAAAAAAAAQAAAgAAAAABAAAKAAAAAAEAAAQAAAAAAQAAAAAAAAABAAACAAAAAAEAAAoAAAAAAQAABAAAAAABAAAAAAAAAAEAAAIAAAAAAQAACgAAAAABAAAEAAAAAAEAAAAAAAAAAQAAAgAAAAABAAAKAAAAAAEAAAQAAAAAAQAAAAAAAAABAAACAAAAAAEAAAYAAAAAAQAAAgAAAAAEAAAEAAAAAAEAAAoAAAAAAQAABAAAAAABAAAAAAAAAAEAAAIAAAAAAQAACgAAAAABAAAEAAAAAAEAAAAAAAAAAQAAAgAAAAABAAAIAAAAAAIAAAIAAAAAHHN0c2MAAAAAAAAAAQAAAAEAAADKAAAAAQAAAzxzdHN6AAAAAAAAAAAAAADKAAAFfQAAABcAAAAbAAAAHQAAACIAAAAUAAAAHQAAAB8AAAAUAAAAEwAAABMAAAAeAAAAFQAAABIAAAAhAAAAFAAAACAAAAAUAAAAHQAAACEAAAAVAAAAFAAAABwAAAAbAAAAHgAAAB0AAAAfAAAAHAAAACUAAAAaAAAAEwAAABQAAAAWAAAAFwAAABMAAAAUAAAAHQAAACIAAAAVAAAAFAAAABMAAAAdAAAAHwAAABwAAAAdAAAAHwAAABgAAAAUAAAAFAAAACIAAAAZAAAAFAAAABMAAAAeAAAAHAAAABwAAAATAAAAEQAAACAAAAAdAAAAHQAAACMAAAATAAAAFgAAABQAAAAUAAAAEwAAACAAAAAUAAAAEwAAABQAAAAlAAAAGQAAABQAAAAUAAAAHQAAABwAAAAcAAAAHAAAAB0AAAAdAAAAHQAAACMAAAAaAAAAEwAAABQAAAAdAAAAEwAAABQAAAAkAAAAGQAAABQAAAAUAAAAHgAAAB0AAAAdAAAAHwAAABQAAAAUAAAAFAAAAB4AAAAWAAAAEAAAABQAAAATAAAAFwAAABAAAAAUAAAAEwAAABcAAAAQAAAAFAAAABMAAAAXAAAAEAAAABQAAAATAAAAFwAAABAAAAAUAAAAEwAAABsAAAASAAAAFAAAABMAAAAXAAAAEAAAABQAAAATAAAAFwAAABAAAAAUAAAAEwAAABcAAAAQAAAAFAAAABMAAAAXAAAAEAAAABQAAAATAAAAFwAAABAAAAAUAAAAEwAAABcAAAAQAAAAFAAAABMAAAAXAAAAEAAAABQAAAATAAAAFwAAABAAAAAUAAAAEwAAABcAAAAQAAAAFAAAABMAAAAXAAAAEAAAABQAAAATAAAAFwAAABAAAAAUAAAAEwAAABcAAAAQAAAAFAAAABMAAAAXAAAAEAAAABQAAAATAAAAFgAAABAAAAAUAAAAEwAAABYAAAAQAAAAFAAAABMAAAAkAAAAFAAAABwAAAAdAAAAHQAAAB0AAAAVAAAAEAAAABQAAAAUAAAAFgAAABAAAAAUAAAAFAAAAB4AAAArAAAAJwAAABRzdGNvAAAAAAAAAAEAAAAwAAAAYnVkdGEAAABabWV0YQAAAAAAAAAhaGRscgAAAAAAAAAAbWRpcmFwcGwAAAAAAAAAAAAAAAAtaWxzdAAAACWpdG9vAAAAHWRhdGEAAAABAAAAAExhdmY1Ny44My4xMDA=\" type=\"video/mp4\" />\n",
              "             </video>"
            ],
            "text/plain": [
              "<IPython.core.display.HTML object>"
            ]
          },
          "metadata": {
            "tags": []
          },
          "execution_count": 30
        }
      ]
    },
    {
      "cell_type": "code",
      "metadata": {
        "id": "3aroxCYk5BhD",
        "colab_type": "code",
        "colab": {},
        "outputId": "d1a1e9d9-af6c-41bd-a064-a32b9e0f35b4"
      },
      "source": [
        "# Evaluation\n",
        "test(agent,env,epochs_test,prefix='cnn_test_explore')\n",
        "HTML(display_videos('cnn_test_explore10.mp4'))"
      ],
      "execution_count": 0,
      "outputs": [
        {
          "output_type": "stream",
          "text": [
            "Win/lose count 14.5/2.0. Average score (12.5)\n",
            "Win/lose count 3.5/0. Average score (8.0)\n",
            "Win/lose count 8.5/1.0. Average score (7.833333333333333)\n",
            "Win/lose count 5.0/0. Average score (7.125)\n",
            "Win/lose count 5.5/1.0. Average score (6.6)\n",
            "Win/lose count 4.5/0. Average score (6.25)\n",
            "Win/lose count 6.0/3.0. Average score (5.785714285714286)\n",
            "Win/lose count 11.5/0. Average score (6.5)\n",
            "Win/lose count 5.5/0. Average score (6.388888888888889)\n",
            "Win/lose count 12.5/2.0. Average score (6.8)\n",
            "Win/lose count 9.0/1.0. Average score (6.909090909090909)\n",
            "Win/lose count 2.0/0. Average score (6.5)\n",
            "Win/lose count 12.5/1.0. Average score (6.884615384615385)\n",
            "Win/lose count 6.0/0. Average score (6.821428571428571)\n",
            "Win/lose count 9.0/1.0. Average score (6.9)\n",
            "Win/lose count 6.5/0. Average score (6.875)\n",
            "Win/lose count 10.0/1.0. Average score (7.0)\n",
            "Win/lose count 16.0/1.0. Average score (7.444444444444445)\n",
            "Win/lose count 7.0/0. Average score (7.421052631578948)\n",
            "Win/lose count 8.0/1.0. Average score (7.4)\n",
            "Final score: 7.4\n"
          ],
          "name": "stdout"
        },
        {
          "output_type": "execute_result",
          "data": {
            "text/html": [
              "<video alt=\"test\" controls>\n",
              "                <source src=\"data:video/mp4;base64,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\" type=\"video/mp4\" />\n",
              "             </video>"
            ],
            "text/plain": [
              "<IPython.core.display.HTML object>"
            ]
          },
          "metadata": {
            "tags": []
          },
          "execution_count": 31
        }
      ]
    },
    {
      "cell_type": "markdown",
      "metadata": {
        "id": "SBbg2cen5BhH",
        "colab_type": "text"
      },
      "source": [
        "It works :)"
      ]
    },
    {
      "cell_type": "markdown",
      "metadata": {
        "id": "0rSTeRQ35BhI",
        "colab_type": "text"
      },
      "source": [
        "***"
      ]
    }
  ]
}